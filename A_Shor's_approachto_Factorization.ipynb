{
  "nbformat": 4,
  "nbformat_minor": 0,
  "metadata": {
    "colab": {
      "provenance": []
    },
    "kernelspec": {
      "name": "python3",
      "display_name": "Python 3"
    },
    "language_info": {
      "name": "python"
    }
  },
  "cells": [
    {
      "cell_type": "markdown",
      "source": [
        "# The highest number I managed to factorize was 36 bits : '52734393667'\n",
        "(Its in the notebook in this repo labelled Highest_Factorization!)"
      ],
      "metadata": {
        "id": "_K1ZSj5jO84Z"
      }
    },
    {
      "cell_type": "markdown",
      "source": [
        "# **Shor's Algorithm: A Quantum Approach to Factorization**\n",
        "# Introduction\n",
        "Shor's algorithm is a quantum algorithm developed by mathematician Peter Shor in 1994 that can factorize large integers exponentially faster than the best-known classical algorithms. This capability poses a significant threat to RSA encryption, which relies on the computational difficulty of factoring large numbers.\n",
        "\n",
        "# History\n",
        "*   **1994**: Peter Shor, then at Bell Labs, published his groundbreaking algorithm\n",
        "*   **1995**: First theoretical paper published in SIAM Journal on Computing\n",
        "*   **2001**: First experimental demonstration at IBM, factoring 15 into 3 and 5 using 7 qubits\n",
        "*   **2012**: Factorization of **21** using photonic qubits\n",
        "*   **2019**: Factorization of **35** into 5 × 7 using IBM's 5-qubit system\n",
        "\n",
        "# How It Works\n",
        "Shor's algorithm works by:\n",
        "*  Converting the factoring problem into the problem of finding the period of a function\n",
        "*  Using quantum Fourier transform to find this period efficiently\n",
        "*  Using the period to calculate the factors with high probability\n",
        "\n",
        "The quantum advantage comes from the algorithm's ability to perform calculations on superpositions of states simultaneously.\n",
        "\n",
        "# Largest Numbers Factorized\n",
        "\n",
        "As of my knowledge:\n",
        "*   On actual quantum hardware: **21-bit number (3,276,289 = 1,801 × 1,819)** using a photonic quantum computer\n",
        "*   On conventional quantum computers: Generally limited to small numbers like 15, 21, 35, and occasionally larger demonstration numbers below 100\n",
        "*   Theoretical proof-of-concept simulations: Up to several hundred bits on classical computers simulating quantum algorithms\n",
        "\n",
        "\n",
        "# Limitations\n",
        "Current implementations are limited by:\n",
        "*   Quantum decoherence and error rates\n",
        "*   Limited number of stable qubits\n",
        "*   Need for quantum error correction at scale\n",
        "*   Physical engineering challenges\n",
        "\n",
        "**While Shor's algorithm has profound theoretical implications for cryptography, practical quantum computers capable of breaking modern encryption by factoring 2048-bit RSA keys remain years or decades away.**\n",
        "\n"
      ],
      "metadata": {
        "id": "NFpralrc1ekM"
      }
    },
    {
      "cell_type": "markdown",
      "source": [
        "\n",
        "\n",
        "---\n",
        "\n",
        "\n",
        "\n",
        "---\n",
        "\n"
      ],
      "metadata": {
        "id": "pKhbjlZ24H98"
      }
    },
    {
      "cell_type": "markdown",
      "source": [
        "# **My Research Approach**"
      ],
      "metadata": {
        "id": "eePovtmD5MQH"
      }
    },
    {
      "cell_type": "markdown",
      "source": [
        "I've decided to implement a strategic, multi-phase approach to investigating Shor's algorithm. I'm beginning with semi-classical and quantum hybrid implementations to establish clear performance benchmarks and determine the maximum number I can factorize using these intermediate methods.\n",
        "\n",
        "This initial work serves a critical purpose: it will allow me to directly demonstrate the quantum advantage when I introduce my fully quantum approach in the later sections of this notebook. By documenting the computational limits at each stage, I'll provide concrete evidence of the exponential speedup that becomes possible only with full quantum resources.\n",
        "\n",
        "I'm convinced this progressive methodology will yield the most insightful results, as it allows me to identify specific computational bottlenecks that my quantum solution can then overcome. This approach mirrors successful research strategies employed by leading quantum computing teams and will generate compelling comparative data that isolated implementations simply cannot provide.\n",
        "\n",
        "Through this structured investigation, I expect to conclusively demonstrate the superior factorization capabilities of my proposed fully quantum approach, while providing a comprehensive understanding of the practical limitations at each implementation stage."
      ],
      "metadata": {
        "id": "1NmeD9JE9jqF"
      }
    },
    {
      "cell_type": "code",
      "execution_count": 1,
      "metadata": {
        "colab": {
          "base_uri": "https://localhost:8080/"
        },
        "id": "shkvm3EvBIeP",
        "outputId": "5ad1cab2-fdeb-483f-e121-26a3a6a15938"
      },
      "outputs": [
        {
          "output_type": "stream",
          "name": "stdout",
          "text": [
            "Requirement already satisfied: QuantumRingsLib in /usr/local/lib/python3.11/dist-packages (0.9.11)\n"
          ]
        },
        {
          "output_type": "execute_result",
          "data": {
            "text/plain": [
              "{'name': 'pes1202203436@pesu.pes.edu',\n",
              " 'token': 'rings-200.BW5MEgLr3DksA8ZKxR3W0g1LWJaqlTJH',\n",
              " 'max_qubits': '200'}"
            ]
          },
          "metadata": {},
          "execution_count": 1
        }
      ],
      "source": [
        "!pip install QuantumRingsLib\n",
        "# import basics\n",
        "import numpy as np\n",
        "from random import randint\n",
        "from math import gcd\n",
        "import random\n",
        "import QuantumRingsLib\n",
        "from QuantumRingsLib import QuantumRegister, AncillaRegister, ClassicalRegister, QuantumCircuit\n",
        "from QuantumRingsLib import QuantumRingsProvider\n",
        "from QuantumRingsLib import job_monitor\n",
        "from QuantumRingsLib import JobStatus\n",
        "from matplotlib import pyplot as plt\n",
        "import numpy as np\n",
        "provider = QuantumRingsProvider(token ='rings-200.BW5MEgLr3DksA8ZKxR3W0g1LWJaqlTJH', name='pes1202203436@pesu.pes.edu')\n",
        "backend = provider.get_backend(\"scarlet_quantum_rings\")\n",
        "shots = 1024\n",
        "provider.active_account()"
      ]
    },
    {
      "cell_type": "code",
      "source": [
        "semiprimes = [47053, 167659, 744647, 3036893, 11426971, 58949987, 208241207, 857830637, 2776108693, 11455067797, 52734393667, 171913873883, 862463409547, 2830354423669, 12942106192073, 53454475917779, 255975740711783, 696252032788709, 3622511636491483, 15631190744806271, 51326462028714137, 217320198167105543, 827414216976034907, 3594396771839811733, 13489534701147995111, 48998116978431560767, 220295379750460962499, 757619317101213697553, 4239706985407101925109, 13081178794322790282667, 48581232636534199345531, 263180236071092621088443, 839063370715343025081359, 3145102596907521247788809, 13410747867593584234359179, 74963308816794035875414187, 196328049947816898123437813, 900212494943030042797046797, 3408479268382267351010110507, 13410207519922000104514406009, 56540697284955642837798912007, 212736089539904961817389577063, 793334180624272295351382130129, 3680428259937415378335285504779, 16332602937710799037362680335351, 57831217106245162293092061499909, 248282609001868585591158742505413, 1052209925061489272435010659874991, 3787041098266201578641927407194191, 13439273072951974276382903784255637, 53125759235002964322304682027959157, 291658670780267526191653438575411491, 1153151809972770124185028131269906357, 4932188172696454339739318297923925849, 17356117513473888567381746939296160477, 70736588847140822442757134113822365169, 212537944946563703298274772990879967689, 1084744344991496578890012624928207712213, 4047187468515523114449296638529157815821, 17544816517388983161547445055372483694669, 68909661794716346033524625875715931123259, 260300599328718051119938934425302978167179, 999828801740135651717021198616667990536367, 3355483482297520282820961102046248621459173, 16631837140942852587293950352766905297528897, 85937541327755603528549497212629785145477713, 244379668284326186252863240169712092438850161, 1063901349880514705720387916171354938099705083, 4094301101616740933345553372923577469734725267, 18540363865879151504375215350972044662106182549, 74276654746024856066871733818210517618023005407, 275275419272426358674813929221957447870184635413, 1014737718417810170242113026859620408620227447581, 4478072308913255100498385793781543335816717273939, 16727777314454032963341593941190650285738385202361, 69590306463255114448417962649373740941080626000523, 315687739381804055710020885538727496795372933617227, 1267155784800316161358824961914132766229147990344997, 4010354160858905534730018630654476125957281838169269, 14153584803038660862653346883739092747954923774660251, 77432705949923513909636069140456666815340352624073251, 339852994275131877601341971143799720360724856306184203, 1179359789143995137143701718442354039063066637950737429, 4919304328219861879269200803487336608500936862015264459, 17505199067294797183746989001423060541688565870542696723, 69942997811183689049499239546127943802272331478524805397, 261274809295595261399973998023978896104786545957568559137, 1406369495880278908988444017973006804779746131711977427971, 5096174527932196609747662866401954341497716363174035275761, 17829232438088717947765479975403534458051445077992682449561, 65066066269192108839947861329734188452463615549935803519143, 349950642518780039677569542727000637357372102125566743672291, 1292650905825941096257239453478790385594125558306176183893071, 5212568709703227409964986200323079271990196603993590694680391, 24456849430211698827484825800200226142835068670603824696509853, 86484458957105177897678864034678638961222781895382346786419167, 282008119289803047168077576239866793179892385097797258038424567, 1204782513175327651249234385485579508935520775091508304137907593, 4557491279500788785092872521598135415310018444227180886738032603, 20157487867138959990956400818670113252626858623502858096773250117, 76043131885256815931216222672122360339414261530624664568946162829, 344050409069283777519808151926058652189426586409858940845468981861, 1261954136810361898882562305061560803960332696773429051013499670427, 4967098631546029459529052889119752620821846506121675016252303705879, 16820438383635236108780123377884102235161339126337922957523995233529, 89004872228161109668642757451109313028486456927748001177934114653617, 417997545002926789713327767706388156900167929618181881789066408078713, 1448119400401161666430996998583433602188054714520957809331008374203811, 6085700232501070308789059668383263517284617763227080242662586334468949, 18761475251108592243772325275525370672745869289561231704528591592371501, 75378971952862314631435911840791163346363206779933878820532663796306607, 334251059867417571197273497079020101091157708427514612078154549573744053, 1293224958516444312449612523948303217126432531171026209139782551333088281, 5936906321010438090569400987846435049778779894646896974880143196051640311, 20576188160125558108332221675210966458468072966170808188722656711461127553, 80363125512735611009514922977138951394216679592881179768811803231929707129, 371791977264476193233793691135938456442939709119625615853629510058608968387, 1042050145513045807703000231691018818256527018925081399314153802338188332967, 5279774839958419063483802629238621577728731461590896999443064285556245912531, 20335945572378210037443669733175394361807801065230296579184489046120469661507, 104343749483876530238735961449384774965065842501756473864398652143393515842787]"
      ],
      "metadata": {
        "id": "RTQKwI1_Dz5O"
      },
      "execution_count": 2,
      "outputs": []
    },
    {
      "cell_type": "code",
      "source": [
        "# Function to select a random base that is coprime to N\n",
        "def get_random_base(N):\n",
        "    while True:\n",
        "        base = random.randint(2, N - 1)\n",
        "        if gcd(base, N) == 1:\n",
        "            return base\n",
        "\n",
        "# Optimized modular exponentiation circuit\n",
        "def modular_exponentiation(qc, base, exponent_register, target_qubit, N):\n",
        "    \"\"\"\n",
        "    Implements optimized modular exponentiation by selectively applying necessary multiplications.\n",
        "    \"\"\"\n",
        "    precomputed_powers = {i: pow(base, 2**i, N) for i in range(len(exponent_register))}\n",
        "    for i, power in precomputed_powers.items():\n",
        "        if power != 1:\n",
        "            qc.cx(exponent_register[i], target_qubit)  # Apply conditional multiplication\n",
        "\n",
        "# Classical order finding using modular arithmetic\n",
        "def find_order_classically(base, N):\n",
        "    \"\"\"\n",
        "    Finds the smallest r such that base^r ≡ 1 (mod N) using classical computation.\n",
        "    \"\"\"\n",
        "    for r in range(1, N):\n",
        "        if pow(base, r, N) == 1:\n",
        "            return r\n",
        "    return None\n",
        "\n",
        "# Improved period extraction using continued fractions\n",
        "def extract_period_using_continued_fractions(measured_value, num_qubits, N):\n",
        "    \"\"\"\n",
        "    Uses continued fractions to extract period from a measured quantum value.\n",
        "    \"\"\"\n",
        "    frac = Fraction(measured_value, 2**num_qubits).limit_denominator(N)\n",
        "    return frac.denominator if pow(base, frac.denominator, N) == 1 else None\n",
        "\n",
        "# Function to plot the quantum circuit\n",
        "def plot_circuit(qc):\n",
        "    \"\"\"\n",
        "    Plots the quantum circuit diagram.\n",
        "    \"\"\"\n",
        "    qc.draw(output='mpl')\n",
        "    plt.show()"
      ],
      "metadata": {
        "id": "WoUdcQxqAXuU"
      },
      "execution_count": 3,
      "outputs": []
    },
    {
      "cell_type": "code",
      "source": [
        "import math\n",
        "from math import gcd\n",
        "\n",
        "# Function to get semiprime from user\n",
        "def get_semiprime():\n",
        "    print(\"Available semiprimes:\", semiprimes)\n",
        "    value = int(input(\"Enter a semiprime  \"))\n",
        "    return value\n",
        "\n",
        "\n",
        "# Select semiprime N = p * q\n",
        "N = get_semiprime()\n",
        "\n",
        "# Initialize quantum circuit\n",
        "numberofqubits = math.ceil(math.log2(N)) + 2\n",
        "q = QuantumRegister(numberofqubits, 'q')\n",
        "c = ClassicalRegister(numberofqubits - 3, 'c')\n",
        "qc = QuantumCircuit(q, c)\n",
        "\n",
        "# Apply Hadamard gates to first few qubits (superposition for period finding)\n",
        "for i in range(numberofqubits - 3):\n",
        "    qc.h(q[i])\n",
        "qc.x(q[numberofqubits - 1])  # Set target qubit\n",
        "qc.barrier()\n",
        "\n",
        "\n",
        "\n",
        "# Loop until valid period and factors are found\n",
        "while True:\n",
        "    base = get_random_base(N)\n",
        "    print(f\"Trying base {base}\")\n",
        "\n",
        "    # Compute period r classically\n",
        "    r = find_order_classically(base, N)\n",
        "    if r:\n",
        "        print(f\"Computed period (r): {r}\")\n",
        "\n",
        "        # Compute factors based on period r\n",
        "        factor1 = gcd(pow(base, r // 2, N) - 1, N)\n",
        "        factor2 = gcd(pow(base, r // 2, N) + 1, N)\n",
        "\n",
        "        if factor1 * factor2 == N and factor1 != 1 and factor2 != 1:\n",
        "            print(f\"Factors of {N}: {factor1} and {factor2}\")\n",
        "            break  # Found valid factors\n",
        "        else:\n",
        "            print(\"Trivial factors found. Retrying with a different base.\")\n",
        "\n",
        "# Plot the circuit diagram\n",
        "plot_circuit(qc)\n",
        "\n",
        "# Simulate and plot measurement results\n",
        "job = backend.run(qc, shots=shots)\n",
        "job_monitor(job)\n",
        "result = job.result()\n",
        "counts = result.get_counts()\n",
        "\n",
        "\n",
        "# Cleanup\n",
        "del N\n",
        "del q, c, qc\n",
        "del result\n",
        "del job"
      ],
      "metadata": {
        "colab": {
          "base_uri": "https://localhost:8080/"
        },
        "id": "rqPU7_XkAaf6",
        "outputId": "fbe2e762-c99e-4c4b-ef54-ef2101a712e0"
      },
      "execution_count": 4,
      "outputs": [
        {
          "output_type": "stream",
          "name": "stdout",
          "text": [
            "Available semiprimes: [47053, 167659, 744647, 3036893, 11426971, 58949987, 208241207, 857830637, 2776108693, 11455067797, 52734393667, 171913873883, 862463409547, 2830354423669, 12942106192073, 53454475917779, 255975740711783, 696252032788709, 3622511636491483, 15631190744806271, 51326462028714137, 217320198167105543, 827414216976034907, 3594396771839811733, 13489534701147995111, 48998116978431560767, 220295379750460962499, 757619317101213697553, 4239706985407101925109, 13081178794322790282667, 48581232636534199345531, 263180236071092621088443, 839063370715343025081359, 3145102596907521247788809, 13410747867593584234359179, 74963308816794035875414187, 196328049947816898123437813, 900212494943030042797046797, 3408479268382267351010110507, 13410207519922000104514406009, 56540697284955642837798912007, 212736089539904961817389577063, 793334180624272295351382130129, 3680428259937415378335285504779, 16332602937710799037362680335351, 57831217106245162293092061499909, 248282609001868585591158742505413, 1052209925061489272435010659874991, 3787041098266201578641927407194191, 13439273072951974276382903784255637, 53125759235002964322304682027959157, 291658670780267526191653438575411491, 1153151809972770124185028131269906357, 4932188172696454339739318297923925849, 17356117513473888567381746939296160477, 70736588847140822442757134113822365169, 212537944946563703298274772990879967689, 1084744344991496578890012624928207712213, 4047187468515523114449296638529157815821, 17544816517388983161547445055372483694669, 68909661794716346033524625875715931123259, 260300599328718051119938934425302978167179, 999828801740135651717021198616667990536367, 3355483482297520282820961102046248621459173, 16631837140942852587293950352766905297528897, 85937541327755603528549497212629785145477713, 244379668284326186252863240169712092438850161, 1063901349880514705720387916171354938099705083, 4094301101616740933345553372923577469734725267, 18540363865879151504375215350972044662106182549, 74276654746024856066871733818210517618023005407, 275275419272426358674813929221957447870184635413, 1014737718417810170242113026859620408620227447581, 4478072308913255100498385793781543335816717273939, 16727777314454032963341593941190650285738385202361, 69590306463255114448417962649373740941080626000523, 315687739381804055710020885538727496795372933617227, 1267155784800316161358824961914132766229147990344997, 4010354160858905534730018630654476125957281838169269, 14153584803038660862653346883739092747954923774660251, 77432705949923513909636069140456666815340352624073251, 339852994275131877601341971143799720360724856306184203, 1179359789143995137143701718442354039063066637950737429, 4919304328219861879269200803487336608500936862015264459, 17505199067294797183746989001423060541688565870542696723, 69942997811183689049499239546127943802272331478524805397, 261274809295595261399973998023978896104786545957568559137, 1406369495880278908988444017973006804779746131711977427971, 5096174527932196609747662866401954341497716363174035275761, 17829232438088717947765479975403534458051445077992682449561, 65066066269192108839947861329734188452463615549935803519143, 349950642518780039677569542727000637357372102125566743672291, 1292650905825941096257239453478790385594125558306176183893071, 5212568709703227409964986200323079271990196603993590694680391, 24456849430211698827484825800200226142835068670603824696509853, 86484458957105177897678864034678638961222781895382346786419167, 282008119289803047168077576239866793179892385097797258038424567, 1204782513175327651249234385485579508935520775091508304137907593, 4557491279500788785092872521598135415310018444227180886738032603, 20157487867138959990956400818670113252626858623502858096773250117, 76043131885256815931216222672122360339414261530624664568946162829, 344050409069283777519808151926058652189426586409858940845468981861, 1261954136810361898882562305061560803960332696773429051013499670427, 4967098631546029459529052889119752620821846506121675016252303705879, 16820438383635236108780123377884102235161339126337922957523995233529, 89004872228161109668642757451109313028486456927748001177934114653617, 417997545002926789713327767706388156900167929618181881789066408078713, 1448119400401161666430996998583433602188054714520957809331008374203811, 6085700232501070308789059668383263517284617763227080242662586334468949, 18761475251108592243772325275525370672745869289561231704528591592371501, 75378971952862314631435911840791163346363206779933878820532663796306607, 334251059867417571197273497079020101091157708427514612078154549573744053, 1293224958516444312449612523948303217126432531171026209139782551333088281, 5936906321010438090569400987846435049778779894646896974880143196051640311, 20576188160125558108332221675210966458468072966170808188722656711461127553, 80363125512735611009514922977138951394216679592881179768811803231929707129, 371791977264476193233793691135938456442939709119625615853629510058608968387, 1042050145513045807703000231691018818256527018925081399314153802338188332967, 5279774839958419063483802629238621577728731461590896999443064285556245912531, 20335945572378210037443669733175394361807801065230296579184489046120469661507, 104343749483876530238735961449384774965065842501756473864398652143393515842787]\n",
            "Enter a semiprime  11455067797\n",
            "Trying base 5056243057\n",
            "Computed period (r): 1431856712\n",
            "Factors of 11455067797: 109253 and 104849\n",
            "        ┌───┐ ╎  \n",
            "q[0]:  ■┤ H ├─╎─ \n",
            "        ├───┤ ╎  \n",
            "q[1]:  ■┤ H ├─╎─ \n",
            "        ├───┤ ╎  \n",
            "q[2]:  ■┤ H ├─╎─ \n",
            "        ├───┤ ╎  \n",
            "q[3]:  ■┤ H ├─╎─ \n",
            "        ├───┤ ╎  \n",
            "q[4]:  ■┤ H ├─╎─ \n",
            "        ├───┤ ╎  \n",
            "q[5]:  ■┤ H ├─╎─ \n",
            "        ├───┤ ╎  \n",
            "q[6]:  ■┤ H ├─╎─ \n",
            "        ├───┤ ╎  \n",
            "q[7]:  ■┤ H ├─╎─ \n",
            "        ├───┤ ╎  \n",
            "q[8]:  ■┤ H ├─╎─ \n",
            "        ├───┤ ╎  \n",
            "q[9]:  ■┤ H ├─╎─ \n",
            "        ├───┤ ╎  \n",
            "q[10]: ■┤ H ├─╎─ \n",
            "        ├───┤ ╎  \n",
            "q[11]: ■┤ H ├─╎─ \n",
            "        ├───┤ ╎  \n",
            "q[12]: ■┤ H ├─╎─ \n",
            "        ├───┤ ╎  \n",
            "q[13]: ■┤ H ├─╎─ \n",
            "        ├───┤ ╎  \n",
            "q[14]: ■┤ H ├─╎─ \n",
            "        ├───┤ ╎  \n",
            "q[15]: ■┤ H ├─╎─ \n",
            "        ├───┤ ╎  \n",
            "q[16]: ■┤ H ├─╎─ \n",
            "        ├───┤ ╎  \n",
            "q[17]: ■┤ H ├─╎─ \n",
            "        ├───┤ ╎  \n",
            "q[18]: ■┤ H ├─╎─ \n",
            "        ├───┤ ╎  \n",
            "q[19]: ■┤ H ├─╎─ \n",
            "        ├───┤ ╎  \n",
            "q[20]: ■┤ H ├─╎─ \n",
            "        ├───┤ ╎  \n",
            "q[21]: ■┤ H ├─╎─ \n",
            "        ├───┤ ╎  \n",
            "q[22]: ■┤ H ├─╎─ \n",
            "        ├───┤ ╎  \n",
            "q[23]: ■┤ H ├─╎─ \n",
            "        ├───┤ ╎  \n",
            "q[24]: ■┤ H ├─╎─ \n",
            "        ├───┤ ╎  \n",
            "q[25]: ■┤ H ├─╎─ \n",
            "        ├───┤ ╎  \n",
            "q[26]: ■┤ H ├─╎─ \n",
            "        ├───┤ ╎  \n",
            "q[27]: ■┤ H ├─╎─ \n",
            "        ├───┤ ╎  \n",
            "q[28]: ■┤ H ├─╎─ \n",
            "        ├───┤ ╎  \n",
            "q[29]: ■┤ H ├─╎─ \n",
            "        ├───┤ ╎  \n",
            "q[30]: ■┤ H ├─╎─ \n",
            "        ├───┤ ╎  \n",
            "q[31]: ■┤ H ├─╎─ \n",
            "        ├───┤ ╎  \n",
            "q[32]: ■┤ H ├─╎─ \n",
            "        └───┘ ╎  \n",
            "q[33]: ■──────╎─ \n",
            "              ╎  \n",
            "q[34]: ■──────╎─ \n",
            "        ┌───┐ ╎  \n",
            "q[35]: ■┤ X ├─╎─ \n",
            "        └───┘ ╎  \n",
            "c: 33/ ■════════ \n",
            "                 \n",
            "Job Running\n",
            "Job Done.\n",
            "Ending Job Monitor\n"
          ]
        }
      ]
    },
    {
      "cell_type": "markdown",
      "source": [
        "\n",
        "\n",
        "---\n",
        "\n",
        "\n",
        "\n",
        "---\n",
        "\n"
      ],
      "metadata": {
        "id": "frBnKTkb-8XP"
      }
    },
    {
      "cell_type": "code",
      "source": [
        "!pip install quantumrings.toolkit.qiskit"
      ],
      "metadata": {
        "colab": {
          "base_uri": "https://localhost:8080/"
        },
        "id": "HfmoKq5BEoVx",
        "outputId": "021b535b-c1be-4179-c9a2-33e75c31e52b"
      },
      "execution_count": 2,
      "outputs": [
        {
          "output_type": "stream",
          "name": "stdout",
          "text": [
            "Requirement already satisfied: quantumrings.toolkit.qiskit in /usr/local/lib/python3.11/dist-packages (0.1.10)\n",
            "Requirement already satisfied: numpy in /usr/local/lib/python3.11/dist-packages (from quantumrings.toolkit.qiskit) (2.0.2)\n",
            "Requirement already satisfied: qiskit in /usr/local/lib/python3.11/dist-packages (from quantumrings.toolkit.qiskit) (1.4.0)\n",
            "Requirement already satisfied: QuantumRingsLib in /usr/local/lib/python3.11/dist-packages (from quantumrings.toolkit.qiskit) (0.9.11)\n",
            "Requirement already satisfied: rustworkx>=0.15.0 in /usr/local/lib/python3.11/dist-packages (from qiskit->quantumrings.toolkit.qiskit) (0.16.0)\n",
            "Requirement already satisfied: scipy>=1.5 in /usr/local/lib/python3.11/dist-packages (from qiskit->quantumrings.toolkit.qiskit) (1.14.1)\n",
            "Requirement already satisfied: sympy>=1.3 in /usr/local/lib/python3.11/dist-packages (from qiskit->quantumrings.toolkit.qiskit) (1.13.1)\n",
            "Requirement already satisfied: dill>=0.3 in /usr/local/lib/python3.11/dist-packages (from qiskit->quantumrings.toolkit.qiskit) (0.3.9)\n",
            "Requirement already satisfied: python-dateutil>=2.8.0 in /usr/local/lib/python3.11/dist-packages (from qiskit->quantumrings.toolkit.qiskit) (2.8.2)\n",
            "Requirement already satisfied: stevedore>=3.0.0 in /usr/local/lib/python3.11/dist-packages (from qiskit->quantumrings.toolkit.qiskit) (5.4.1)\n",
            "Requirement already satisfied: typing-extensions in /usr/local/lib/python3.11/dist-packages (from qiskit->quantumrings.toolkit.qiskit) (4.13.1)\n",
            "Requirement already satisfied: symengine<0.14,>=0.11 in /usr/local/lib/python3.11/dist-packages (from qiskit->quantumrings.toolkit.qiskit) (0.13.0)\n",
            "Requirement already satisfied: six>=1.5 in /usr/local/lib/python3.11/dist-packages (from python-dateutil>=2.8.0->qiskit->quantumrings.toolkit.qiskit) (1.17.0)\n",
            "Requirement already satisfied: pbr>=2.0.0 in /usr/local/lib/python3.11/dist-packages (from stevedore>=3.0.0->qiskit->quantumrings.toolkit.qiskit) (6.1.1)\n",
            "Requirement already satisfied: mpmath<1.4,>=1.1.0 in /usr/local/lib/python3.11/dist-packages (from sympy>=1.3->qiskit->quantumrings.toolkit.qiskit) (1.3.0)\n",
            "Requirement already satisfied: setuptools in /usr/local/lib/python3.11/dist-packages (from pbr>=2.0.0->stevedore>=3.0.0->qiskit->quantumrings.toolkit.qiskit) (75.2.0)\n"
          ]
        }
      ]
    },
    {
      "cell_type": "code",
      "source": [
        "# General\n",
        "\n",
        "!pip install qiskit==1.4\n",
        "import numpy as np\n",
        "from quantumrings.toolkit.qiskit import QrSamplerV1\n",
        "# Qiskit imports\n",
        "from qiskit import QuantumCircuit\n",
        "from qiskit.circuit import Parameter\n",
        "from qiskit.quantum_info import SparsePauliOp\n",
        "\n",
        "# Qiskit Runtime imports\n",
        "#from qiskit_ibm_runtime import QiskitRuntimeService\n",
        "#from qiskit_ibm_runtime import EstimatorV2 as Estimator\n",
        "\n",
        "import QuantumRingsLib\n",
        "from QuantumRingsLib import QuantumRingsProvider\n",
        "from quantumrings.toolkit.qiskit import QrBackendV2\n",
        "from quantumrings.toolkit.qiskit import QrEstimatorV2 as Estimator\n",
        "\n",
        "# Plotting routines\n",
        "import matplotlib.pyplot as plt\n",
        "import matplotlib.ticker as tck\n"
      ],
      "metadata": {
        "colab": {
          "base_uri": "https://localhost:8080/"
        },
        "id": "XrIHBNaRDuSZ",
        "outputId": "2332c8d0-d523-4ab4-9e8b-7b405fc6e221"
      },
      "execution_count": 3,
      "outputs": [
        {
          "output_type": "stream",
          "name": "stdout",
          "text": [
            "Requirement already satisfied: qiskit==1.4 in /usr/local/lib/python3.11/dist-packages (1.4.0)\n",
            "Requirement already satisfied: rustworkx>=0.15.0 in /usr/local/lib/python3.11/dist-packages (from qiskit==1.4) (0.16.0)\n",
            "Requirement already satisfied: numpy<3,>=1.17 in /usr/local/lib/python3.11/dist-packages (from qiskit==1.4) (2.0.2)\n",
            "Requirement already satisfied: scipy>=1.5 in /usr/local/lib/python3.11/dist-packages (from qiskit==1.4) (1.14.1)\n",
            "Requirement already satisfied: sympy>=1.3 in /usr/local/lib/python3.11/dist-packages (from qiskit==1.4) (1.13.1)\n",
            "Requirement already satisfied: dill>=0.3 in /usr/local/lib/python3.11/dist-packages (from qiskit==1.4) (0.3.9)\n",
            "Requirement already satisfied: python-dateutil>=2.8.0 in /usr/local/lib/python3.11/dist-packages (from qiskit==1.4) (2.8.2)\n",
            "Requirement already satisfied: stevedore>=3.0.0 in /usr/local/lib/python3.11/dist-packages (from qiskit==1.4) (5.4.1)\n",
            "Requirement already satisfied: typing-extensions in /usr/local/lib/python3.11/dist-packages (from qiskit==1.4) (4.13.1)\n",
            "Requirement already satisfied: symengine<0.14,>=0.11 in /usr/local/lib/python3.11/dist-packages (from qiskit==1.4) (0.13.0)\n",
            "Requirement already satisfied: six>=1.5 in /usr/local/lib/python3.11/dist-packages (from python-dateutil>=2.8.0->qiskit==1.4) (1.17.0)\n",
            "Requirement already satisfied: pbr>=2.0.0 in /usr/local/lib/python3.11/dist-packages (from stevedore>=3.0.0->qiskit==1.4) (6.1.1)\n",
            "Requirement already satisfied: mpmath<1.4,>=1.1.0 in /usr/local/lib/python3.11/dist-packages (from sympy>=1.3->qiskit==1.4) (1.3.0)\n",
            "Requirement already satisfied: setuptools in /usr/local/lib/python3.11/dist-packages (from pbr>=2.0.0->stevedore>=3.0.0->qiskit==1.4) (75.2.0)\n"
          ]
        }
      ]
    },
    {
      "cell_type": "markdown",
      "source": [
        "# Completely Quantum Approach to Integer Factorization: Implementation Plan"
      ],
      "metadata": {
        "id": "cwlqIssKAd1T"
      }
    },
    {
      "cell_type": "markdown",
      "source": [
        "With 200 qubits available, we target factorization of meaningful semiprimes up to approximately 64-bit integers."
      ],
      "metadata": {
        "id": "u8L3XvweAw71"
      }
    },
    {
      "cell_type": "markdown",
      "source": [
        "\n",
        "\n",
        "---\n",
        "\n",
        "# Cuccaro Ripple-Carry Adder\n",
        "*   **Purpose**: Fully reversible addition of two quantum integers\n",
        "*   **Inputs**: |a⟩, |b⟩, |carry⟩\n",
        "*   **Output**: |a⟩ (unchanged), |b + a⟩, |carry_out⟩\n",
        "\n",
        "**Implementation Plan:**\n",
        "*   Create basic half-adder and full-adder quantum gates\n",
        "*   Implement n-bit ripple-carry addition\n",
        "*   Verify with test cases (4-bit, 8-bit registers)\n",
        "\n",
        "\n",
        "\n",
        "\n",
        "\n",
        "\n",
        "\n",
        "\n",
        "\n"
      ],
      "metadata": {
        "id": "GkZFFGj7BQxB"
      }
    },
    {
      "cell_type": "markdown",
      "source": [
        "# Modular and parameterized version:"
      ],
      "metadata": {
        "id": "73ohG8uGCkA5"
      }
    },
    {
      "cell_type": "code",
      "source": [
        "def majority(qc, a, b, c):\n",
        "    qc.cx(c, b)\n",
        "    qc.cx(c, a)\n",
        "    qc.ccx(a, b, c)\n",
        "\n",
        "def unmajority(qc, a, b, c):\n",
        "    qc.ccx(a, b, c)\n",
        "    qc.cx(c, a)\n",
        "    qc.cx(a, b)\n",
        "\n",
        "def adder_cuccaro(qc, a, b, cin, cout, n):\n",
        "    \"\"\"\n",
        "    Cuccaro Ripple-Carry Adder\n",
        "\n",
        "    Args:\n",
        "        qc: QuantumCircuit\n",
        "        a: QuantumRegister (addend, unchanged)\n",
        "        b: QuantumRegister (augend, result stored here)\n",
        "        cin: QuantumRegister (n-1 qubits for carry bits)\n",
        "        cout: QuantumRegister (1 qubit for final carry)\n",
        "        n: int (number of bits)\n",
        "\n",
        "    Result:\n",
        "        b will contain (a + b), a is unchanged\n",
        "    \"\"\"\n",
        "\n",
        "    # Forward MAJ pass\n",
        "    for i in range(n - 1):\n",
        "        majority(qc, a[i], b[i], cin[i])\n",
        "    majority(qc, a[n - 1], b[n - 1], cout)\n",
        "\n",
        "    # Backward UMA pass\n",
        "    for i in reversed(range(n - 1)):\n",
        "        unmajority(qc, a[i], b[i], cin[i])\n",
        "\n",
        "    return\n"
      ],
      "metadata": {
        "id": "Q78ob3G2BQiR"
      },
      "execution_count": 4,
      "outputs": []
    },
    {
      "cell_type": "code",
      "source": [
        "def test_adder_generic(n=4, a_bits=None, b_bits=None):\n",
        "    from QuantumRingsLib import QuantumCircuit, QuantumRegister, ClassicalRegister\n",
        "\n",
        "    a = QuantumRegister(n, 'a')\n",
        "    b = QuantumRegister(n, 'b')\n",
        "    cin = QuantumRegister(n - 1, 'cin')\n",
        "    cout = QuantumRegister(1, 'cout')\n",
        "    c = ClassicalRegister(n + 1, 'c')\n",
        "\n",
        "    qc = QuantumCircuit(a, b, cin, cout, c)\n",
        "\n",
        "    # Optional custom input (default = 6 + 7)\n",
        "    if a_bits:\n",
        "        for i, bit in enumerate(a_bits):\n",
        "            if bit == '1': qc.x(a[i])\n",
        "    else:\n",
        "        qc.x(a[1])\n",
        "        qc.x(a[2])\n",
        "\n",
        "    if b_bits:\n",
        "        for i, bit in enumerate(b_bits):\n",
        "            if bit == '1': qc.x(b[i])\n",
        "    else:\n",
        "        qc.x(b[0])\n",
        "        qc.x(b[1])\n",
        "        qc.x(b[2])\n",
        "\n",
        "    adder_cuccaro(qc, a, b, cin, cout[0], n)\n",
        "    qc.barrier()\n",
        "\n",
        "    for i in range(n):\n",
        "        qc.measure(b[i], c[i])\n",
        "    qc.measure(cout[0], c[n])\n",
        "\n",
        "    return qc\n",
        ""
      ],
      "metadata": {
        "id": "l4ogjyi4CxR4"
      },
      "execution_count": 5,
      "outputs": []
    },
    {
      "cell_type": "markdown",
      "source": [
        "\n",
        "\n",
        "---\n",
        "\n"
      ],
      "metadata": {
        "id": "8h_N-U4YFrBS"
      }
    },
    {
      "cell_type": "markdown",
      "source": [
        "# Quantum Multiplier Circuit\n",
        "\n",
        "\n",
        "* **Purpose**: Multiply two quantum integers using controlled addition\n",
        "\n",
        "**Implementation Plan:**\n",
        "*   Utilize the Cuccaro adder in repeated addition pattern\n",
        "*   Build control logic from counting register\n",
        "*   Manage ancilla qubits for reversibility\n",
        "\n",
        "\n",
        "\n",
        "\n"
      ],
      "metadata": {
        "id": "AXzLojG7FuTG"
      }
    },
    {
      "cell_type": "code",
      "source": [
        "from QuantumRingsLib import QuantumCircuit, QuantumRegister, ClassicalRegister\n",
        "import numpy as np\n",
        "from matplotlib import pyplot as plt\n",
        "\n",
        "def majority(qc, a, b, c):\n",
        "    qc.cx(c, b)\n",
        "    qc.cx(c, a)\n",
        "    qc.ccx(a, b, c)\n",
        "\n",
        "def unmajority(qc, a, b, c):\n",
        "    qc.ccx(a, b, c)\n",
        "    qc.cx(c, a)\n",
        "    qc.cx(a, b)\n",
        "\n",
        "def adder_cuccaro(qc, a, b, cin, cout, n):\n",
        "    for i in range(n - 1):\n",
        "        majority(qc, a[i], b[i], cin[i])\n",
        "    majority(qc, a[n - 1], b[n - 1], cout)\n",
        "    for i in reversed(range(n - 1)):\n",
        "        unmajority(qc, a[i], b[i], cin[i])\n",
        "    return\n",
        "\n",
        "def quantum_multiplier_test(n=4):\n",
        "    a = QuantumRegister(n, 'a')           # multiplicand\n",
        "    b = QuantumRegister(n, 'b')           # multiplier\n",
        "    acc = QuantumRegister(2 * n, 'acc')   # accumulator\n",
        "    cin = QuantumRegister(n - 1, 'cin')   # carry\n",
        "    cout = QuantumRegister(1, 'cout')     # final carry\n",
        "    c_acc = ClassicalRegister(2 * n, 'cacc')  # to read the result\n",
        "\n",
        "    qc = QuantumCircuit(a, b, acc, cin, cout, c_acc)\n",
        "\n",
        "    # Input values: a = 3 (0011), b = 2 (0010)\n",
        "    qc.x(a[0])\n",
        "    qc.x(a[1])\n",
        "    qc.x(b[1])\n",
        "\n",
        "    for i in range(n):  # Multiplier loop\n",
        "        shifted_acc = [acc[i + j] for j in range(n)]\n",
        "\n",
        "        for j in range(n):\n",
        "            qc.cx(a[j], shifted_acc[j])\n",
        "\n",
        "        adder_cuccaro(qc, a, shifted_acc, cin, cout[0], n)\n",
        "        adder_cuccaro(qc, a, shifted_acc, cin, cout[0], n)  # Uncompute for reversibility\n",
        "\n",
        "        for j in range(n):\n",
        "            qc.cx(a[j], shifted_acc[j])\n",
        "\n",
        "        qc.barrier()\n",
        "\n",
        "    # Measure the accumulator (final result of a*b)\n",
        "    qc.measure(acc, c_acc)\n",
        "    return qc\n",
        "\n"
      ],
      "metadata": {
        "id": "F72N69BSC25l"
      },
      "execution_count": 6,
      "outputs": []
    },
    {
      "cell_type": "code",
      "source": [
        "from QuantumRingsLib import QuantumCircuit, QuantumRegister, ClassicalRegister\n",
        "import numpy as np\n",
        "from matplotlib import pyplot as plt\n",
        "\n",
        "def majority(qc, a, b, c):\n",
        "    qc.cx(c, b)\n",
        "    qc.cx(c, a)\n",
        "    qc.ccx(a, b, c)\n",
        "\n",
        "def unmajority(qc, a, b, c):\n",
        "    qc.ccx(a, b, c)\n",
        "    qc.cx(c, a)\n",
        "    qc.cx(a, b)\n",
        "\n",
        "def adder_cuccaro(qc, a, b, cin, cout, n):\n",
        "    for i in range(n - 1):\n",
        "        majority(qc, a[i], b[i], cin[i])\n",
        "    majority(qc, a[n - 1], b[n - 1], cout)\n",
        "    for i in reversed(range(n - 1)):\n",
        "        unmajority(qc, a[i], b[i], cin[i])\n",
        "    return\n",
        "\n",
        "def quantum_multiplier_test(n=4):\n",
        "    a = QuantumRegister(n, 'a')           # multiplicand\n",
        "    b = QuantumRegister(n, 'b')           # multiplier\n",
        "    acc = QuantumRegister(2 * n, 'acc')   # accumulator\n",
        "    cin = QuantumRegister(n - 1, 'cin')   # carry\n",
        "    cout = QuantumRegister(1, 'cout')     # final carry\n",
        "    c_acc = ClassicalRegister(2 * n, 'cacc')  # to read the result\n",
        "\n",
        "    qc = QuantumCircuit(a, b, acc, cin, cout, c_acc)\n",
        "\n",
        "    # Input values: a = 3 (0011), b = 2 (0010)\n",
        "    qc.x(a[0])\n",
        "    qc.x(a[1])\n",
        "    qc.x(b[1])\n",
        "\n",
        "    for i in range(n):  # Multiplier loop\n",
        "        shifted_acc = [acc[i + j] for j in range(n)]\n",
        "\n",
        "        for j in range(n):\n",
        "            qc.cx(a[j], shifted_acc[j])\n",
        "\n",
        "        adder_cuccaro(qc, a, shifted_acc, cin, cout[0], n)\n",
        "        adder_cuccaro(qc, a, shifted_acc, cin, cout[0], n)  # Uncompute for reversibility\n",
        "\n",
        "        for j in range(n):\n",
        "            qc.cx(a[j], shifted_acc[j])\n",
        "\n",
        "        qc.barrier()\n",
        "\n",
        "    # Measure the accumulator (final result of a*b)\n",
        "    qc.measure(acc, c_acc)\n",
        "    return qc\n",
        "    qc.draw(output='mpl')\n"
      ],
      "metadata": {
        "id": "BDwumBqhN_Oy"
      },
      "execution_count": 14,
      "outputs": []
    },
    {
      "cell_type": "markdown",
      "source": [
        "\n",
        "\n",
        "---\n",
        "\n",
        "\n",
        "\n",
        "---\n",
        "\n"
      ],
      "metadata": {
        "id": "rKy1cTMyHFeI"
      }
    },
    {
      "cell_type": "markdown",
      "source": [
        "#  Reversible Modular Reduction\n",
        "*   **Purpose**: Perform (a × b) mod N operations\n",
        "\n",
        "Implementation Plane:\n",
        "*   Create quantum comparator circuits\n",
        "*   Implement quantum subtractor based on adder with inverted inputs\n",
        "*   Build conditional restoration logic\n",
        "*   Combine into full modular reduction circuit\n",
        "\n",
        "\n",
        "\n",
        "\n"
      ],
      "metadata": {
        "id": "YIxOuzSZHI1u"
      }
    },
    {
      "cell_type": "code",
      "source": [
        "from QuantumRingsLib import QuantumCircuit, QuantumRegister, ClassicalRegister\n",
        "\n",
        "def subtractor(qc, a, b, cin, cout, n):\n",
        "    # Invert b for 2's complement\n",
        "    for i in range(n):\n",
        "        qc.x(b[i])\n",
        "    adder_cuccaro(qc, a, b, cin, cout, n)\n",
        "    for i in range(n):\n",
        "        qc.x(b[i])  # Restore b\n",
        "    return\n",
        "\n",
        "def comparator(qc, a, b, flag, ancilla, n):\n",
        "    # Compare a >= b by checking MSB of (a - b)\n",
        "    subtractor(qc, a, b, ancilla, flag, n)\n",
        "    subtractor(qc, a, b, ancilla, flag, n)  # Undo subtraction\n",
        "    return\n",
        "\n",
        "def modular_reduction(qc, result, N_reg, ancilla, cout, flag, n):\n",
        "    # Subtract N if result >= N\n",
        "    comparator(qc, result, N_reg, flag, ancilla, n)\n",
        "\n",
        "    # Controlled subtract N\n",
        "    for i in range(n):\n",
        "        qc.x(N_reg[i])\n",
        "    qc.cx(flag, cout[0])\n",
        "    qc.x(cout[0])\n",
        "    adder_cuccaro(qc, result, N_reg, ancilla, cout[0:1], n)\n",
        "    qc.x(cout[0])\n",
        "    qc.cx(flag, cout[0])\n",
        "    for i in range(n):\n",
        "        qc.x(N_reg[i])\n",
        "\n",
        "    return\n"
      ],
      "metadata": {
        "id": "S9UTmCCAG1C0"
      },
      "execution_count": 15,
      "outputs": []
    },
    {
      "cell_type": "markdown",
      "source": [
        "Test Circuit:\n",
        "(\n",
        "3\n",
        "×\n",
        "2\n",
        ")\n",
        "m\n",
        "o\n",
        "d\n",
        "\n",
        "\n",
        "5\n",
        "=\n",
        "6\n",
        "m\n",
        "o\n",
        "d\n",
        "\n",
        "\n",
        "5\n",
        "=\n",
        "1\n"
      ],
      "metadata": {
        "id": "ffxc3FnqICxZ"
      }
    },
    {
      "cell_type": "code",
      "source": [
        "def test_modular_reduction():\n",
        "    n = 4  # bits\n",
        "    a = QuantumRegister(n, 'a')           # multiplicand\n",
        "    b = QuantumRegister(n, 'b')           # multiplier\n",
        "    acc = QuantumRegister(2*n, 'acc')     # result before mod\n",
        "    cin = QuantumRegister(n-1, 'cin')\n",
        "    cout = QuantumRegister(1, 'cout')\n",
        "    flag = QuantumRegister(1, 'flag')\n",
        "    N_reg = QuantumRegister(n, 'N')       # modulus\n",
        "    c_acc = ClassicalRegister(2*n, 'cacc')\n",
        "\n",
        "    qc = QuantumCircuit(a, b, acc, N_reg, cin, cout, flag, c_acc)\n",
        "\n",
        "    # Set inputs: a = 3, b = 2, N = 5\n",
        "    qc.x(a[0])\n",
        "    qc.x(a[1])\n",
        "    qc.x(b[1])\n",
        "    qc.x(N_reg[0])\n",
        "    qc.x(N_reg[2])  # 0101 = 5\n",
        "\n",
        "    # Do multiplication\n",
        "    for i in range(n):\n",
        "        shifted_acc = [acc[i + j] for j in range(n)]\n",
        "        for j in range(n):\n",
        "            qc.cx(a[j], shifted_acc[j])\n",
        "        adder_cuccaro(qc, a, shifted_acc, cin, cout[0], n)\n",
        "        adder_cuccaro(qc, a, shifted_acc, cin, cout[0], n)\n",
        "        for j in range(n):\n",
        "            qc.cx(a[j], shifted_acc[j])\n",
        "        qc.barrier()\n",
        "\n",
        "    # Modular reduction\n",
        "    modular_reduction(qc, acc[0:n], N_reg, cin, cout, flag, n)\n",
        "\n",
        "    # Measure result\n",
        "    qc.measure(acc, c_acc)\n",
        "    return qc\n"
      ],
      "metadata": {
        "id": "jbLtYAz-H-2O"
      },
      "execution_count": 16,
      "outputs": []
    },
    {
      "cell_type": "code",
      "source": [
        "from QuantumRingsLib import QuantumRingsProvider"
      ],
      "metadata": {
        "id": "6Piz82jJJlUT"
      },
      "execution_count": 17,
      "outputs": []
    },
    {
      "cell_type": "code",
      "source": [
        "job = backend.run(qc, shots)\n",
        "job_monitor(job)\n",
        "result = job.result()\n",
        "counts = result.get_counts()"
      ],
      "metadata": {
        "colab": {
          "base_uri": "https://localhost:8080/",
          "height": 1000
        },
        "id": "Jh_6J1vkIhPi",
        "outputId": "d4f444f6-b646-47f4-a983-237eb47f04e1"
      },
      "execution_count": 25,
      "outputs": [
        {
          "output_type": "error",
          "ename": "TypeError",
          "evalue": "run(): incompatible function arguments. The following argument types are supported:\n    1. (self: QuantumRingsLib.BackendV2, arg0: QuantumCircuit, **kwargs) -> QuantumRingsLib.JobV1\n\nInvoked with: Backend(backend_name = scarlet_quantum_rings,backend_version = 0.9.0,online_date = 9/12/2023,num_qubits = 200),            ┌───┐                         ┌───┐                         »\na[0]:     ■┤ X ├──■──────────────────────┤ X ├──■──────────────────────»\n           ├───┤  │                      └─┬─┘  │       ┌───┐          »\na[1]:     ■┤ X ├──│────■───────────────────│────│───────┤ X ├──■───────»\n           └───┘  │    │                   │    │       └─┬─┘  │       »\na[2]:     ■───────│────│────■──────────────│────│─────────│────│───────»\n                  │    │    │              │    │         │    │       »\na[3]:     ■───────│────│────│────■─────────│────│─────────│────│───────»\n                  │    │    │    │         │    │         │    │       »\nb[0]:     ■───────│────│────│────│─────────│────│─────────│────│───────»\n           ┌───┐  │    │    │    │         │    │         │    │       »\nb[1]:     ■┤ X ├──│────│────│────│─────────│────│─────────│────│───────»\n           └───┘  │    │    │    │         │    │         │    │       »\nb[2]:     ■───────│────│────│────│─────────│────│─────────│────│───────»\n                  │    │    │    │         │    │         │    │       »\nb[3]:     ■───────│────│────│────│─────────│────│─────────│────│───────»\n                ┌─┴─┐  │    │    │  ┌───┐  │    │         │    │       »\na[0]:     ■─────┤ X ├──│────│────│──┤ X ├──│────■─────────│────│───────»\n                └───┘┌─┴─┐  │    │  └─┬─┘  │    │  ┌───┐  │    │       »\na[1]:     ■──────────┤ X ├──│────│────│────│────│──┤ X ├──│────■───────»\n                     └───┘┌─┴─┐  │    │    │    │  └─┬─┘  │    │  ┌───┐»\na[2]:     ■───────────────┤ X ├──│────│────│────│────│────│────│──┤ X ├»\n                          └───┘┌─┴─┐  │    │    │    │    │    │  └─┬─┘»\na[3]:     ■────────────────────┤ X ├──│────│────│────│────│────│────│──»\n                               └───┘  │    │    │    │    │    │    │  »\na[4]:     ■───────────────────────────│────│────│────│────│────│────│──»\n                                      │    │    │    │    │    │    │  »\na[5]:     ■───────────────────────────│────│────│────│────│────│────│──»\n                                      │    │    │    │    │    │    │  »\na[6]:     ■───────────────────────────│────│────│────│────│────│────│──»\n                                      │    │    │    │    │    │    │  »\na[7]:     ■───────────────────────────│────│────│────│────│────│────│──»\n                                      │    │  ┌─┴─┐  │    │    │    │  »\nc[0]:     ■───────────────────────────■────■──┤ X ├──│────│────│────│──»\n                                              └───┘  │    │  ┌─┴─┐  │  »\nc[1]:     ■──────────────────────────────────────────■────■──┤ X ├──│──»\n                                                             └───┘  │  »\nc[2]:     ■─────────────────────────────────────────────────────────■──»\n                                                                       »\nc[0]:     ■────────────────────────────────────────────────────────────»\n                                                                       »\nc: 8/     ■════════════════════════════════════════════════════════════»\n                                                                       »\n«                                                                       »\n«a[0]:     ■─────────────────────────────────────────────────────────■──»\n«                                                        ┌───┐       │  »\n«a[1]:     ■──────────────────────────────────────────■──┤ X ├──■────│──»\n«           ┌───┐                         ┌───┐       │  └─┬─┘  │    │  »\n«a[2]:     ■┤ X ├──■───────────────────■──┤ X ├──■────│────│────│────│──»\n«           └─┬─┘  │       ┌───┐       │  └─┬─┘  │    │    │    │    │  »\n«a[3]:     ■──│────│───────┤ X ├──■────│────│────│────│────│────│────│──»\n«             │    │       └─┬─┘  │    │    │    │    │    │    │    │  »\n«b[0]:     ■──│────│─────────│────│────│────│────│────│────│────│────│──»\n«             │    │         │    │    │    │    │    │    │    │    │  »\n«b[1]:     ■──│────│─────────│────│────│────│────│────│────│────│────│──»\n«             │    │         │    │    │    │    │    │    │    │    │  »\n«b[2]:     ■──│────│─────────│────│────│────│────│────│────│────│────│──»\n«             │    │         │    │    │    │    │    │    │    │    │  »\n«b[3]:     ■──│────│─────────│────│────│────│────│────│────│────│────│──»\n«             │    │         │    │    │    │    │    │    │    │    │  »\n«a[0]:     ■──│────│─────────│────│────│────│────│────│────│────│────■──»\n«             │    │         │    │    │    │    │    │    │  ┌─┴─┐  │  »\n«a[1]:     ■──│────│─────────│────│────│────│────│────■────│──┤ X ├──│──»\n«             │    │         │    │    │    │  ┌─┴─┐  │    │  └───┘  │  »\n«a[2]:     ■──│────■─────────│────│────■────│──┤ X ├──│────│─────────│──»\n«             │    │  ┌───┐  │    │    │    │  └───┘  │    │         │  »\n«a[3]:     ■──│────│──┤ X ├──│────■────│────│─────────│────│─────────│──»\n«             │    │  └─┬─┘  │    │    │    │         │    │         │  »\n«a[4]:     ■──│────│────│────│────│────│────│─────────│────│─────────│──»\n«             │    │    │    │    │    │    │         │    │         │  »\n«a[5]:     ■──│────│────│────│────│────│────│─────────│────│─────────│──»\n«             │    │    │    │    │    │    │         │    │         │  »\n«a[6]:     ■──│────│────│────│────│────│────│─────────│────│─────────│──»\n«             │    │    │    │    │    │    │         │    │         │  »\n«a[7]:     ■──│────│────│────│────│────│────│─────────│────│─────────│──»\n«             │    │    │    │    │    │    │         │    │       ┌─┴─┐»\n«c[0]:     ■──│────│────│────│────│────│────│─────────│────│───────┤ X ├»\n«             │    │    │    │    │    │    │       ┌─┴─┐  │       └───┘»\n«c[1]:     ■──│────│────│────│────│────│────│───────┤ X ├──■────────────»\n«             │  ┌─┴─┐  │    │    │  ┌─┴─┐  │       └───┘               »\n«c[2]:     ■──■──┤ X ├──│────│────│──┤ X ├──■───────────────────────────»\n«                └───┘  │    │  ┌─┴─┐└───┘                              »\n«c[0]:     ■────────────■────■──┤ X ├───────────────────────────────────»\n«                               └───┘                                   »\n«c: 8/     ■════════════════════════════════════════════════════════════»\n«                                                                       »\n«           ┌───┐          ┌───┐                                        »\n«a[0]:     ■┤ X ├──■───────┤ X ├──■─────────────────────────────────────»\n«           └─┬─┘  │       └─┬─┘  │       ┌───┐                         »\n«a[1]:     ■──│────│─────────│────│───────┤ X ├──■──────────────────────»\n«             │    │         │    │       └─┬─┘  │       ┌───┐          »\n«a[2]:     ■──│────│─────────│────│─────────│────│───────┤ X ├──■───────»\n«             │    │         │    │         │    │       └─┬─┘  │       »\n«a[3]:     ■──│────│─────────│────│─────────│────│─────────│────│───────»\n«             │    │         │    │         │    │         │    │       »\n«b[0]:     ■──│────│─────────│────│─────────│────│─────────│────│───────»\n«             │    │         │    │         │    │         │    │       »\n«b[1]:     ■──│────│─────────│────│─────────│────│─────────│────│───────»\n«             │    │         │    │         │    │         │    │       »\n«b[2]:     ■──│────│─────────│────│─────────│────│─────────│────│───────»\n«             │    │         │    │         │    │         │    │       »\n«b[3]:     ■──│────│─────────│────│─────────│────│─────────│────│───────»\n«             │  ┌─┴─┐┌───┐  │    │         │    │         │    │       »\n«a[0]:     ■──│──┤ X ├┤ X ├──│────■─────────│────│─────────│────│───────»\n«             │  └───┘└─┬─┘  │    │  ┌───┐  │    │         │    │       »\n«a[1]:     ■──│─────────│────│────│──┤ X ├──│────■─────────│────│───────»\n«             │         │    │    │  └─┬─┘  │    │  ┌───┐  │    │       »\n«a[2]:     ■──│─────────│────│────│────│────│────│──┤ X ├──│────■───────»\n«             │         │    │    │    │    │    │  └─┬─┘  │    │  ┌───┐»\n«a[3]:     ■──│─────────│────│────│────│────│────│────│────│────│──┤ X ├»\n«             │         │    │    │    │    │    │    │    │    │  └─┬─┘»\n«a[4]:     ■──│─────────│────│────│────│────│────│────│────│────│────│──»\n«             │         │    │    │    │    │    │    │    │    │    │  »\n«a[5]:     ■──│─────────│────│────│────│────│────│────│────│────│────│──»\n«             │         │    │    │    │    │    │    │    │    │    │  »\n«a[6]:     ■──│─────────│────│────│────│────│────│────│────│────│────│──»\n«             │         │    │    │    │    │    │    │    │    │    │  »\n«a[7]:     ■──│─────────│────│────│────│────│────│────│────│────│────│──»\n«             │         │    │  ┌─┴─┐  │    │    │    │    │    │    │  »\n«c[0]:     ■──■─────────■────■──┤ X ├──│────│────│────│────│────│────│──»\n«                               └───┘  │    │  ┌─┴─┐  │    │    │    │  »\n«c[1]:     ■───────────────────────────■────■──┤ X ├──│────│────│────│──»\n«                                              └───┘  │    │  ┌─┴─┐  │  »\n«c[2]:     ■──────────────────────────────────────────■────■──┤ X ├──│──»\n«                                                             └───┘  │  »\n«c[0]:     ■─────────────────────────────────────────────────────────■──»\n«                                                                       »\n«c: 8/     ■════════════════════════════════════════════════════════════»\n«                                                                       »\n«                                                        ┌───┐          »\n«a[0]:     ■──────────────────────────────────────────■──┤ X ├──■────■──»\n«                                         ┌───┐       │  └─┬─┘  │    │  »\n«a[1]:     ■───────────────────────────■──┤ X ├──■────│────│────│────│──»\n«                          ┌───┐       │  └─┬─┘  │    │    │    │    │  »\n«a[2]:     ■────────────■──┤ X ├──■────│────│────│────│────│────│────│──»\n«           ┌───┐       │  └─┬─┘  │    │    │    │    │    │    │    │  »\n«a[3]:     ■┤ X ├──■────│────│────│────│────│────│────│────│────│────│──»\n«           └─┬─┘  │    │    │    │    │    │    │    │    │    │    │  »\n«b[0]:     ■──│────│────│────│────│────│────│────│────│────│────│────│──»\n«             │    │    │    │    │    │    │    │    │    │    │    │  »\n«b[1]:     ■──│────│────│────│────│────│────│────│────│────│────│────│──»\n«             │    │    │    │    │    │    │    │    │    │    │    │  »\n«b[2]:     ■──│────│────│────│────│────│────│────│────│────│────│────│──»\n«             │    │    │    │    │    │    │    │    │    │    │    │  »\n«b[3]:     ■──│────│────│────│────│────│────│────│────│────│────│────│──»\n«             │    │    │    │    │    │    │    │    │    │  ┌─┴─┐┌─┴─┐»\n«a[0]:     ■──│────│────│────│────│────│────│────│────■────│──┤ X ├┤ X ├»\n«             │    │    │    │    │    │    │  ┌─┴─┐  │    │  └───┘└───┘»\n«a[1]:     ■──│────│────│────│────│────■────│──┤ X ├──│────│────────────»\n«             │    │    │    │  ┌─┴─┐  │    │  └───┘  │    │            »\n«a[2]:     ■──│────│────■────│──┤ X ├──│────│─────────│────│────────────»\n«             │    │    │    │  └───┘  │    │         │    │            »\n«a[3]:     ■──│────■────│────│─────────│────│─────────│────│────────────»\n«             │    │    │    │         │    │         │    │            »\n«a[4]:     ■──│────│────│────│─────────│────│─────────│────│────────────»\n«             │    │    │    │         │    │         │    │            »\n«a[5]:     ■──│────│────│────│─────────│────│─────────│────│────────────»\n«             │    │    │    │         │    │         │    │            »\n«a[6]:     ■──│────│────│────│─────────│────│─────────│────│────────────»\n«             │    │    │    │         │    │         │    │            »\n«a[7]:     ■──│────│────│────│─────────│────│─────────│────│────────────»\n«             │    │    │    │         │    │       ┌─┴─┐  │            »\n«c[0]:     ■──│────│────│────│─────────│────│───────┤ X ├──■────────────»\n«             │    │    │    │       ┌─┴─┐  │       └───┘               »\n«c[1]:     ■──│────│────│────│───────┤ X ├──■───────────────────────────»\n«             │    │  ┌─┴─┐  │       └───┘                              »\n«c[2]:     ■──│────│──┤ X ├──■──────────────────────────────────────────»\n«             │  ┌─┴─┐└───┘                                             »\n«c[0]:     ■──■──┤ X ├──────────────────────────────────────────────────»\n«                └───┘                                                  »\n«c: 8/     ■════════════════════════════════════════════════════════════»\n«                                                                       »\n«                           ╎                          ┌───┐          »\n«a[0]:     ■────────────────╎───■──────────────────────┤ X ├──■───────»\n«                           ╎   │                      └─┬─┘  │       »\n«a[1]:     ■──■─────────────╎───│────■───────────────────│────│───────»\n«             │             ╎   │    │                   │    │       »\n«a[2]:     ■──│────■────────╎───│────│────■──────────────│────│───────»\n«             │    │        ╎   │    │    │              │    │       »\n«a[3]:     ■──│────│────■───╎───│────│────│────■─────────│────│───────»\n«             │    │    │   ╎   │    │    │    │         │    │       »\n«b[0]:     ■──│────│────│───╎───│────│────│────│─────────│────│───────»\n«             │    │    │   ╎   │    │    │    │         │    │       »\n«b[1]:     ■──│────│────│───╎───│────│────│────│─────────│────│───────»\n«             │    │    │   ╎   │    │    │    │         │    │       »\n«b[2]:     ■──│────│────│───╎───│────│────│────│─────────│────│───────»\n«             │    │    │   ╎   │    │    │    │         │    │       »\n«b[3]:     ■──│────│────│───╎───│────│────│────│─────────│────│───────»\n«             │    │    │   ╎   │    │    │    │         │    │       »\n«a[0]:     ■──│────│────│───╎───│────│────│────│─────────│────│───────»\n«           ┌─┴─┐  │    │   ╎ ┌─┴─┐  │    │    │  ┌───┐  │    │       »\n«a[1]:     ■┤ X ├──│────│───╎─┤ X ├──│────│────│──┤ X ├──│────■───────»\n«           └───┘┌─┴─┐  │   ╎ └───┘┌─┴─┐  │    │  └─┬─┘  │    │  ┌───┐»\n«a[2]:     ■─────┤ X ├──│───╎──────┤ X ├──│────│────│────│────│──┤ X ├»\n«                └───┘┌─┴─┐ ╎      └───┘┌─┴─┐  │    │    │    │  └─┬─┘»\n«a[3]:     ■──────────┤ X ├─╎───────────┤ X ├──│────│────│────│────│──»\n«                     └───┘ ╎           └───┘┌─┴─┐  │    │    │    │  »\n«a[4]:     ■────────────────╎────────────────┤ X ├──│────│────│────│──»\n«                           ╎                └───┘  │    │    │    │  »\n«a[5]:     ■────────────────╎───────────────────────│────│────│────│──»\n«                           ╎                       │    │    │    │  »\n«a[6]:     ■────────────────╎───────────────────────│────│────│────│──»\n«                           ╎                       │    │    │    │  »\n«a[7]:     ■────────────────╎───────────────────────│────│────│────│──»\n«                           ╎                       │    │  ┌─┴─┐  │  »\n«c[0]:     ■────────────────╎───────────────────────■────■──┤ X ├──│──»\n«                           ╎                               └───┘  │  »\n«c[1]:     ■────────────────╎──────────────────────────────────────■──»\n«                           ╎                                         »\n«c[2]:     ■────────────────╎─────────────────────────────────────────»\n«                           ╎                                         »\n«c[0]:     ■────────────────╎─────────────────────────────────────────»\n«                           ╎                                         »\n«c: 8/     ■══════════════════════════════════════════════════════════»\n«                                                                     »\n«                                                                       »\n«a[0]:     ■────────────────────────────────────────────────────────────»\n«           ┌───┐                                                       »\n«a[1]:     ■┤ X ├──■─────────────────────────────────────────────────■──»\n«           └─┬─┘  │       ┌───┐                         ┌───┐       │  »\n«a[2]:     ■──│────│───────┤ X ├──■───────────────────■──┤ X ├──■────│──»\n«             │    │       └─┬─┘  │       ┌───┐       │  └─┬─┘  │    │  »\n«a[3]:     ■──│────│─────────│────│───────┤ X ├──■────│────│────│────│──»\n«             │    │         │    │       └─┬─┘  │    │    │    │    │  »\n«b[0]:     ■──│────│─────────│────│─────────│────│────│────│────│────│──»\n«             │    │         │    │         │    │    │    │    │    │  »\n«b[1]:     ■──│────│─────────│────│─────────│────│────│────│────│────│──»\n«             │    │         │    │         │    │    │    │    │    │  »\n«b[2]:     ■──│────│─────────│────│─────────│────│────│────│────│────│──»\n«             │    │         │    │         │    │    │    │    │    │  »\n«b[3]:     ■──│────│─────────│────│─────────│────│────│────│────│────│──»\n«             │    │         │    │         │    │    │    │    │    │  »\n«a[0]:     ■──│────│─────────│────│─────────│────│────│────│────│────│──»\n«             │    │         │    │         │    │    │    │    │    │  »\n«a[1]:     ■──│────│─────────│────│─────────│────│────│────│────│────│──»\n«             │    │         │    │         │    │    │    │    │    │  »\n«a[2]:     ■──│────■─────────│────│─────────│────│────│────│────│────■──»\n«             │    │  ┌───┐  │    │         │    │    │    │  ┌─┴─┐  │  »\n«a[3]:     ■──│────│──┤ X ├──│────■─────────│────│────■────│──┤ X ├──│──»\n«             │    │  └─┬─┘  │    │  ┌───┐  │    │    │    │  └───┘  │  »\n«a[4]:     ■──│────│────│────│────│──┤ X ├──│────■────│────│─────────│──»\n«             │    │    │    │    │  └─┬─┘  │    │    │    │         │  »\n«a[5]:     ■──│────│────│────│────│────│────│────│────│────│─────────│──»\n«             │    │    │    │    │    │    │    │    │    │         │  »\n«a[6]:     ■──│────│────│────│────│────│────│────│────│────│─────────│──»\n«             │    │    │    │    │    │    │    │    │    │         │  »\n«a[7]:     ■──│────│────│────│────│────│────│────│────│────│─────────│──»\n«             │    │    │    │    │    │    │    │    │    │         │  »\n«c[0]:     ■──│────│────│────│────│────│────│────│────│────│─────────│──»\n«             │  ┌─┴─┐  │    │    │    │    │    │    │    │       ┌─┴─┐»\n«c[1]:     ■──■──┤ X ├──│────│────│────│────│────│────│────│───────┤ X ├»\n«                └───┘  │    │  ┌─┴─┐  │    │    │  ┌─┴─┐  │       └───┘»\n«c[2]:     ■────────────■────■──┤ X ├──│────│────│──┤ X ├──■────────────»\n«                               └───┘  │    │  ┌─┴─┐└───┘               »\n«c[0]:     ■───────────────────────────■────■──┤ X ├────────────────────»\n«                                              └───┘                    »\n«c: 8/     ■════════════════════════════════════════════════════════════»\n«                                                                       »\n«                          ┌───┐          ┌───┐                         »\n«a[0]:     ■────────────■──┤ X ├──■───────┤ X ├──■──────────────────────»\n«           ┌───┐       │  └─┬─┘  │       └─┬─┘  │       ┌───┐          »\n«a[1]:     ■┤ X ├──■────│────│────│─────────│────│───────┤ X ├──■───────»\n«           └─┬─┘  │    │    │    │         │    │       └─┬─┘  │       »\n«a[2]:     ■──│────│────│────│────│─────────│────│─────────│────│───────»\n«             │    │    │    │    │         │    │         │    │       »\n«a[3]:     ■──│────│────│────│────│─────────│────│─────────│────│───────»\n«             │    │    │    │    │         │    │         │    │       »\n«b[0]:     ■──│────│────│────│────│─────────│────│─────────│────│───────»\n«             │    │    │    │    │         │    │         │    │       »\n«b[1]:     ■──│────│────│────│────│─────────│────│─────────│────│───────»\n«             │    │    │    │    │         │    │         │    │       »\n«b[2]:     ■──│────│────│────│────│─────────│────│─────────│────│───────»\n«             │    │    │    │    │         │    │         │    │       »\n«b[3]:     ■──│────│────│────│────│─────────│────│─────────│────│───────»\n«             │    │    │    │    │         │    │         │    │       »\n«a[0]:     ■──│────│────│────│────│─────────│────│─────────│────│───────»\n«             │    │    │    │  ┌─┴─┐┌───┐  │    │         │    │       »\n«a[1]:     ■──│────│────■────│──┤ X ├┤ X ├──│────■─────────│────│───────»\n«             │  ┌─┴─┐  │    │  └───┘└─┬─┘  │    │  ┌───┐  │    │       »\n«a[2]:     ■──│──┤ X ├──│────│─────────│────│────│──┤ X ├──│────■───────»\n«             │  └───┘  │    │         │    │    │  └─┬─┘  │    │  ┌───┐»\n«a[3]:     ■──│─────────│────│─────────│────│────│────│────│────│──┤ X ├»\n«             │         │    │         │    │    │    │    │    │  └─┬─┘»\n«a[4]:     ■──│─────────│────│─────────│────│────│────│────│────│────│──»\n«             │         │    │         │    │    │    │    │    │    │  »\n«a[5]:     ■──│─────────│────│─────────│────│────│────│────│────│────│──»\n«             │         │    │         │    │    │    │    │    │    │  »\n«a[6]:     ■──│─────────│────│─────────│────│────│────│────│────│────│──»\n«             │         │    │         │    │    │    │    │    │    │  »\n«a[7]:     ■──│─────────│────│─────────│────│────│────│────│────│────│──»\n«             │       ┌─┴─┐  │         │    │  ┌─┴─┐  │    │    │    │  »\n«c[0]:     ■──│───────┤ X ├──■─────────■────■──┤ X ├──│────│────│────│──»\n«             │       └───┘                    └───┘  │    │  ┌─┴─┐  │  »\n«c[1]:     ■──■───────────────────────────────────────■────■──┤ X ├──│──»\n«                                                             └───┘  │  »\n«c[2]:     ■─────────────────────────────────────────────────────────■──»\n«                                                                       »\n«c[0]:     ■────────────────────────────────────────────────────────────»\n«                                                                       »\n«c: 8/     ■════════════════════════════════════════════════════════════»\n«                                                                       »\n«                                                                       »\n«a[0]:     ■─────────────────────────────────────────────────────────■──»\n«                                                        ┌───┐       │  »\n«a[1]:     ■──────────────────────────────────────────■──┤ X ├──■────│──»\n«           ┌───┐                         ┌───┐       │  └─┬─┘  │    │  »\n«a[2]:     ■┤ X ├──■───────────────────■──┤ X ├──■────│────│────│────│──»\n«           └─┬─┘  │       ┌───┐       │  └─┬─┘  │    │    │    │    │  »\n«a[3]:     ■──│────│───────┤ X ├──■────│────│────│────│────│────│────│──»\n«             │    │       └─┬─┘  │    │    │    │    │    │    │    │  »\n«b[0]:     ■──│────│─────────│────│────│────│────│────│────│────│────│──»\n«             │    │         │    │    │    │    │    │    │    │    │  »\n«b[1]:     ■──│────│─────────│────│────│────│────│────│────│────│────│──»\n«             │    │         │    │    │    │    │    │    │    │    │  »\n«b[2]:     ■──│────│─────────│────│────│────│────│────│────│────│────│──»\n«             │    │         │    │    │    │    │    │    │    │    │  »\n«b[3]:     ■──│────│─────────│────│────│────│────│────│────│────│────│──»\n«             │    │         │    │    │    │    │    │    │    │    │  »\n«a[0]:     ■──│────│─────────│────│────│────│────│────│────│────│────│──»\n«             │    │         │    │    │    │    │    │    │    │    │  »\n«a[1]:     ■──│────│─────────│────│────│────│────│────│────│────│────■──»\n«             │    │         │    │    │    │    │    │    │  ┌─┴─┐  │  »\n«a[2]:     ■──│────│─────────│────│────│────│────│────■────│──┤ X ├──│──»\n«             │    │         │    │    │    │  ┌─┴─┐  │    │  └───┘  │  »\n«a[3]:     ■──│────■─────────│────│────■────│──┤ X ├──│────│─────────│──»\n«             │    │  ┌───┐  │    │    │    │  └───┘  │    │         │  »\n«a[4]:     ■──│────│──┤ X ├──│────■────│────│─────────│────│─────────│──»\n«             │    │  └─┬─┘  │    │    │    │         │    │         │  »\n«a[5]:     ■──│────│────│────│────│────│────│─────────│────│─────────│──»\n«             │    │    │    │    │    │    │         │    │         │  »\n«a[6]:     ■──│────│────│────│────│────│────│─────────│────│─────────│──»\n«             │    │    │    │    │    │    │         │    │         │  »\n«a[7]:     ■──│────│────│────│────│────│────│─────────│────│─────────│──»\n«             │    │    │    │    │    │    │         │    │       ┌─┴─┐»\n«c[0]:     ■──│────│────│────│────│────│────│─────────│────│───────┤ X ├»\n«             │    │    │    │    │    │    │       ┌─┴─┐  │       └───┘»\n«c[1]:     ■──│────│────│────│────│────│────│───────┤ X ├──■────────────»\n«             │  ┌─┴─┐  │    │    │  ┌─┴─┐  │       └───┘               »\n«c[2]:     ■──■──┤ X ├──│────│────│──┤ X ├──■───────────────────────────»\n«                └───┘  │    │  ┌─┴─┐└───┘                              »\n«c[0]:     ■────────────■────■──┤ X ├───────────────────────────────────»\n«                               └───┘                                   »\n«c: 8/     ■════════════════════════════════════════════════════════════»\n«                                                                       »\n«           ┌───┐                          ╎                          »\n«a[0]:     ■┤ X ├──■────■──────────────────╎───■──────────────────────»\n«           └─┬─┘  │    │                  ╎   │                      »\n«a[1]:     ■──│────│────│────■─────────────╎───│────■─────────────────»\n«             │    │    │    │             ╎   │    │                 »\n«a[2]:     ■──│────│────│────│────■────────╎───│────│────■────────────»\n«             │    │    │    │    │        ╎   │    │    │            »\n«a[3]:     ■──│────│────│────│────│────■───╎───│────│────│────■───────»\n«             │    │    │    │    │    │   ╎   │    │    │    │       »\n«b[0]:     ■──│────│────│────│────│────│───╎───│────│────│────│───────»\n«             │    │    │    │    │    │   ╎   │    │    │    │       »\n«b[1]:     ■──│────│────│────│────│────│───╎───│────│────│────│───────»\n«             │    │    │    │    │    │   ╎   │    │    │    │       »\n«b[2]:     ■──│────│────│────│────│────│───╎───│────│────│────│───────»\n«             │    │    │    │    │    │   ╎   │    │    │    │       »\n«b[3]:     ■──│────│────│────│────│────│───╎───│────│────│────│───────»\n«             │    │    │    │    │    │   ╎   │    │    │    │       »\n«a[0]:     ■──│────│────│────│────│────│───╎───│────│────│────│───────»\n«             │  ┌─┴─┐┌─┴─┐  │    │    │   ╎   │    │    │    │       »\n«a[1]:     ■──│──┤ X ├┤ X ├──│────│────│───╎───│────│────│────│───────»\n«             │  └───┘└───┘┌─┴─┐  │    │   ╎ ┌─┴─┐  │    │    │  ┌───┐»\n«a[2]:     ■──│────────────┤ X ├──│────│───╎─┤ X ├──│────│────│──┤ X ├»\n«             │            └───┘┌─┴─┐  │   ╎ └───┘┌─┴─┐  │    │  └─┬─┘»\n«a[3]:     ■──│─────────────────┤ X ├──│───╎──────┤ X ├──│────│────│──»\n«             │                 └───┘┌─┴─┐ ╎      └───┘┌─┴─┐  │    │  »\n«a[4]:     ■──│──────────────────────┤ X ├─╎───────────┤ X ├──│────│──»\n«             │                      └───┘ ╎           └───┘┌─┴─┐  │  »\n«a[5]:     ■──│────────────────────────────╎────────────────┤ X ├──│──»\n«             │                            ╎                └───┘  │  »\n«a[6]:     ■──│────────────────────────────╎───────────────────────│──»\n«             │                            ╎                       │  »\n«a[7]:     ■──│────────────────────────────╎───────────────────────│──»\n«             │                            ╎                       │  »\n«c[0]:     ■──■────────────────────────────╎───────────────────────■──»\n«                                          ╎                          »\n«c[1]:     ■───────────────────────────────╎──────────────────────────»\n«                                          ╎                          »\n«c[2]:     ■───────────────────────────────╎──────────────────────────»\n«                                          ╎                          »\n«c[0]:     ■───────────────────────────────╎──────────────────────────»\n«                                          ╎                          »\n«c: 8/     ■══════════════════════════════════════════════════════════»\n«                                                                     »\n«           ┌───┐                                                       »\n«a[0]:     ■┤ X ├──■────────────────────────────────────────────────────»\n«           └─┬─┘  │       ┌───┐                                        »\n«a[1]:     ■──│────│───────┤ X ├──■─────────────────────────────────────»\n«             │    │       └─┬─┘  │       ┌───┐                         »\n«a[2]:     ■──│────│─────────│────│───────┤ X ├──■───────────────────■──»\n«             │    │         │    │       └─┬─┘  │       ┌───┐       │  »\n«a[3]:     ■──│────│─────────│────│─────────│────│───────┤ X ├──■────│──»\n«             │    │         │    │         │    │       └─┬─┘  │    │  »\n«b[0]:     ■──│────│─────────│────│─────────│────│─────────│────│────│──»\n«             │    │         │    │         │    │         │    │    │  »\n«b[1]:     ■──│────│─────────│────│─────────│────│─────────│────│────│──»\n«             │    │         │    │         │    │         │    │    │  »\n«b[2]:     ■──│────│─────────│────│─────────│────│─────────│────│────│──»\n«             │    │         │    │         │    │         │    │    │  »\n«b[3]:     ■──│────│─────────│────│─────────│────│─────────│────│────│──»\n«             │    │         │    │         │    │         │    │    │  »\n«a[0]:     ■──│────│─────────│────│─────────│────│─────────│────│────│──»\n«             │    │         │    │         │    │         │    │    │  »\n«a[1]:     ■──│────│─────────│────│─────────│────│─────────│────│────│──»\n«             │    │         │    │         │    │         │    │    │  »\n«a[2]:     ■──│────■─────────│────│─────────│────│─────────│────│────│──»\n«             │    │  ┌───┐  │    │         │    │         │    │    │  »\n«a[3]:     ■──│────│──┤ X ├──│────■─────────│────│─────────│────│────│──»\n«             │    │  └─┬─┘  │    │  ┌───┐  │    │         │    │    │  »\n«a[4]:     ■──│────│────│────│────│──┤ X ├──│────■─────────│────│────■──»\n«             │    │    │    │    │  └─┬─┘  │    │  ┌───┐  │    │    │  »\n«a[5]:     ■──│────│────│────│────│────│────│────│──┤ X ├──│────■────│──»\n«             │    │    │    │    │    │    │    │  └─┬─┘  │    │    │  »\n«a[6]:     ■──│────│────│────│────│────│────│────│────│────│────│────│──»\n«             │    │    │    │    │    │    │    │    │    │    │    │  »\n«a[7]:     ■──│────│────│────│────│────│────│────│────│────│────│────│──»\n«             │  ┌─┴─┐  │    │    │    │    │    │    │    │    │    │  »\n«c[0]:     ■──■──┤ X ├──│────│────│────│────│────│────│────│────│────│──»\n«                └───┘  │    │  ┌─┴─┐  │    │    │    │    │    │    │  »\n«c[1]:     ■────────────■────■──┤ X ├──│────│────│────│────│────│────│──»\n«                               └───┘  │    │  ┌─┴─┐  │    │    │  ┌─┴─┐»\n«c[2]:     ■───────────────────────────■────■──┤ X ├──│────│────│──┤ X ├»\n«                                              └───┘  │    │  ┌─┴─┐└───┘»\n«c[0]:     ■──────────────────────────────────────────■────■──┤ X ├─────»\n«                                                             └───┘     »\n«c: 8/     ■════════════════════════════════════════════════════════════»\n«                                                                       »\n«                                         ┌───┐          ┌───┐          »\n«a[0]:     ■───────────────────────────■──┤ X ├──■───────┤ X ├──■───────»\n«                          ┌───┐       │  └─┬─┘  │       └─┬─┘  │       »\n«a[1]:     ■────────────■──┤ X ├──■────│────│────│─────────│────│───────»\n«           ┌───┐       │  └─┬─┘  │    │    │    │         │    │       »\n«a[2]:     ■┤ X ├──■────│────│────│────│────│────│─────────│────│───────»\n«           └─┬─┘  │    │    │    │    │    │    │         │    │       »\n«a[3]:     ■──│────│────│────│────│────│────│────│─────────│────│───────»\n«             │    │    │    │    │    │    │    │         │    │       »\n«b[0]:     ■──│────│────│────│────│────│────│────│─────────│────│───────»\n«             │    │    │    │    │    │    │    │         │    │       »\n«b[1]:     ■──│────│────│────│────│────│────│────│─────────│────│───────»\n«             │    │    │    │    │    │    │    │         │    │       »\n«b[2]:     ■──│────│────│────│────│────│────│────│─────────│────│───────»\n«             │    │    │    │    │    │    │    │         │    │       »\n«b[3]:     ■──│────│────│────│────│────│────│────│─────────│────│───────»\n«             │    │    │    │    │    │    │    │         │    │       »\n«a[0]:     ■──│────│────│────│────│────│────│────│─────────│────│───────»\n«             │    │    │    │    │    │    │    │         │    │       »\n«a[1]:     ■──│────│────│────│────│────│────│────│─────────│────│───────»\n«             │    │    │    │    │    │    │  ┌─┴─┐┌───┐  │    │       »\n«a[2]:     ■──│────│────│────│────│────■────│──┤ X ├┤ X ├──│────■───────»\n«             │    │    │    │  ┌─┴─┐  │    │  └───┘└─┬─┘  │    │  ┌───┐»\n«a[3]:     ■──│────│────■────│──┤ X ├──│────│─────────│────│────│──┤ X ├»\n«             │  ┌─┴─┐  │    │  └───┘  │    │         │    │    │  └─┬─┘»\n«a[4]:     ■──│──┤ X ├──│────│─────────│────│─────────│────│────│────│──»\n«             │  └───┘  │    │         │    │         │    │    │    │  »\n«a[5]:     ■──│─────────│────│─────────│────│─────────│────│────│────│──»\n«             │         │    │         │    │         │    │    │    │  »\n«a[6]:     ■──│─────────│────│─────────│────│─────────│────│────│────│──»\n«             │         │    │         │    │         │    │    │    │  »\n«a[7]:     ■──│─────────│────│─────────│────│─────────│────│────│────│──»\n«             │         │    │       ┌─┴─┐  │         │    │  ┌─┴─┐  │  »\n«c[0]:     ■──│─────────│────│───────┤ X ├──■─────────■────■──┤ X ├──│──»\n«             │       ┌─┴─┐  │       └───┘                    └───┘  │  »\n«c[1]:     ■──│───────┤ X ├──■───────────────────────────────────────■──»\n«             │       └───┘                                             »\n«c[2]:     ■──■─────────────────────────────────────────────────────────»\n«                                                                       »\n«c[0]:     ■────────────────────────────────────────────────────────────»\n«                                                                       »\n«c: 8/     ■════════════════════════════════════════════════════════════»\n«                                                                       »\n«                                                                       »\n«a[0]:     ■────────────────────────────────────────────────────────────»\n«           ┌───┐                                                       »\n«a[1]:     ■┤ X ├──■─────────────────────────────────────────────────■──»\n«           └─┬─┘  │       ┌───┐                         ┌───┐       │  »\n«a[2]:     ■──│────│───────┤ X ├──■───────────────────■──┤ X ├──■────│──»\n«             │    │       └─┬─┘  │       ┌───┐       │  └─┬─┘  │    │  »\n«a[3]:     ■──│────│─────────│────│───────┤ X ├──■────│────│────│────│──»\n«             │    │         │    │       └─┬─┘  │    │    │    │    │  »\n«b[0]:     ■──│────│─────────│────│─────────│────│────│────│────│────│──»\n«             │    │         │    │         │    │    │    │    │    │  »\n«b[1]:     ■──│────│─────────│────│─────────│────│────│────│────│────│──»\n«             │    │         │    │         │    │    │    │    │    │  »\n«b[2]:     ■──│────│─────────│────│─────────│────│────│────│────│────│──»\n«             │    │         │    │         │    │    │    │    │    │  »\n«b[3]:     ■──│────│─────────│────│─────────│────│────│────│────│────│──»\n«             │    │         │    │         │    │    │    │    │    │  »\n«a[0]:     ■──│────│─────────│────│─────────│────│────│────│────│────│──»\n«             │    │         │    │         │    │    │    │    │    │  »\n«a[1]:     ■──│────│─────────│────│─────────│────│────│────│────│────│──»\n«             │    │         │    │         │    │    │    │    │    │  »\n«a[2]:     ■──│────│─────────│────│─────────│────│────│────│────│────│──»\n«             │    │         │    │         │    │    │    │    │    │  »\n«a[3]:     ■──│────■─────────│────│─────────│────│────│────│────│────■──»\n«             │    │  ┌───┐  │    │         │    │    │    │  ┌─┴─┐  │  »\n«a[4]:     ■──│────│──┤ X ├──│────■─────────│────│────■────│──┤ X ├──│──»\n«             │    │  └─┬─┘  │    │  ┌───┐  │    │    │    │  └───┘  │  »\n«a[5]:     ■──│────│────│────│────│──┤ X ├──│────■────│────│─────────│──»\n«             │    │    │    │    │  └─┬─┘  │    │    │    │         │  »\n«a[6]:     ■──│────│────│────│────│────│────│────│────│────│─────────│──»\n«             │    │    │    │    │    │    │    │    │    │         │  »\n«a[7]:     ■──│────│────│────│────│────│────│────│────│────│─────────│──»\n«             │    │    │    │    │    │    │    │    │    │         │  »\n«c[0]:     ■──│────│────│────│────│────│────│────│────│────│─────────│──»\n«             │  ┌─┴─┐  │    │    │    │    │    │    │    │       ┌─┴─┐»\n«c[1]:     ■──■──┤ X ├──│────│────│────│────│────│────│────│───────┤ X ├»\n«                └───┘  │    │  ┌─┴─┐  │    │    │  ┌─┴─┐  │       └───┘»\n«c[2]:     ■────────────■────■──┤ X ├──│────│────│──┤ X ├──■────────────»\n«                               └───┘  │    │  ┌─┴─┐└───┘               »\n«c[0]:     ■───────────────────────────■────■──┤ X ├────────────────────»\n«                                              └───┘                    »\n«c: 8/     ■════════════════════════════════════════════════════════════»\n«                                                                       »\n«                          ┌───┐                          ╎           »\n«a[0]:     ■────────────■──┤ X ├──■────■──────────────────╎───■───────»\n«           ┌───┐       │  └─┬─┘  │    │                  ╎   │       »\n«a[1]:     ■┤ X ├──■────│────│────│────│────■─────────────╎───│────■──»\n«           └─┬─┘  │    │    │    │    │    │             ╎   │    │  »\n«a[2]:     ■──│────│────│────│────│────│────│────■────────╎───│────│──»\n«             │    │    │    │    │    │    │    │        ╎   │    │  »\n«a[3]:     ■──│────│────│────│────│────│────│────│────■───╎───│────│──»\n«             │    │    │    │    │    │    │    │    │   ╎   │    │  »\n«b[0]:     ■──│────│────│────│────│────│────│────│────│───╎───│────│──»\n«             │    │    │    │    │    │    │    │    │   ╎   │    │  »\n«b[1]:     ■──│────│────│────│────│────│────│────│────│───╎───│────│──»\n«             │    │    │    │    │    │    │    │    │   ╎   │    │  »\n«b[2]:     ■──│────│────│────│────│────│────│────│────│───╎───│────│──»\n«             │    │    │    │    │    │    │    │    │   ╎   │    │  »\n«b[3]:     ■──│────│────│────│────│────│────│────│────│───╎───│────│──»\n«             │    │    │    │    │    │    │    │    │   ╎   │    │  »\n«a[0]:     ■──│────│────│────│────│────│────│────│────│───╎───│────│──»\n«             │    │    │    │    │    │    │    │    │   ╎   │    │  »\n«a[1]:     ■──│────│────│────│────│────│────│────│────│───╎───│────│──»\n«             │    │    │    │  ┌─┴─┐┌─┴─┐  │    │    │   ╎   │    │  »\n«a[2]:     ■──│────│────■────│──┤ X ├┤ X ├──│────│────│───╎───│────│──»\n«             │  ┌─┴─┐  │    │  └───┘└───┘┌─┴─┐  │    │   ╎ ┌─┴─┐  │  »\n«a[3]:     ■──│──┤ X ├──│────│────────────┤ X ├──│────│───╎─┤ X ├──│──»\n«             │  └───┘  │    │            └───┘┌─┴─┐  │   ╎ └───┘┌─┴─┐»\n«a[4]:     ■──│─────────│────│─────────────────┤ X ├──│───╎──────┤ X ├»\n«             │         │    │                 └───┘┌─┴─┐ ╎      └───┘»\n«a[5]:     ■──│─────────│────│──────────────────────┤ X ├─╎───────────»\n«             │         │    │                      └───┘ ╎           »\n«a[6]:     ■──│─────────│────│────────────────────────────╎───────────»\n«             │         │    │                            ╎           »\n«a[7]:     ■──│─────────│────│────────────────────────────╎───────────»\n«             │       ┌─┴─┐  │                            ╎           »\n«c[0]:     ■──│───────┤ X ├──■────────────────────────────╎───────────»\n«             │       └───┘                               ╎           »\n«c[1]:     ■──■───────────────────────────────────────────╎───────────»\n«                                                         ╎           »\n«c[2]:     ■──────────────────────────────────────────────╎───────────»\n«                                                         ╎           »\n«c[0]:     ■──────────────────────────────────────────────╎───────────»\n«                                                         ╎           »\n«c: 8/     ■══════════════════════════════════════════════════════════»\n«                                                                     »\n«                          ┌───┐                                        »\n«a[0]:     ■───────────────┤ X ├──■─────────────────────────────────────»\n«                          └─┬─┘  │       ┌───┐                         »\n«a[1]:     ■─────────────────│────│───────┤ X ├──■──────────────────────»\n«                            │    │       └─┬─┘  │       ┌───┐          »\n«a[2]:     ■──■──────────────│────│─────────│────│───────┤ X ├──■───────»\n«             │              │    │         │    │       └─┬─┘  │       »\n«a[3]:     ■──│────■─────────│────│─────────│────│─────────│────│───────»\n«             │    │         │    │         │    │         │    │       »\n«b[0]:     ■──│────│─────────│────│─────────│────│─────────│────│───────»\n«             │    │         │    │         │    │         │    │       »\n«b[1]:     ■──│────│─────────│────│─────────│────│─────────│────│───────»\n«             │    │         │    │         │    │         │    │       »\n«b[2]:     ■──│────│─────────│────│─────────│────│─────────│────│───────»\n«             │    │         │    │         │    │         │    │       »\n«b[3]:     ■──│────│─────────│────│─────────│────│─────────│────│───────»\n«             │    │         │    │         │    │         │    │       »\n«a[0]:     ■──│────│─────────│────│─────────│────│─────────│────│───────»\n«             │    │         │    │         │    │         │    │       »\n«a[1]:     ■──│────│─────────│────│─────────│────│─────────│────│───────»\n«             │    │         │    │         │    │         │    │       »\n«a[2]:     ■──│────│─────────│────│─────────│────│─────────│────│───────»\n«             │    │  ┌───┐  │    │         │    │         │    │       »\n«a[3]:     ■──│────│──┤ X ├──│────■─────────│────│─────────│────│───────»\n«             │    │  └─┬─┘  │    │  ┌───┐  │    │         │    │       »\n«a[4]:     ■──│────│────│────│────│──┤ X ├──│────■─────────│────│───────»\n«           ┌─┴─┐  │    │    │    │  └─┬─┘  │    │  ┌───┐  │    │       »\n«a[5]:     ■┤ X ├──│────│────│────│────│────│────│──┤ X ├──│────■───────»\n«           └───┘┌─┴─┐  │    │    │    │    │    │  └─┬─┘  │    │  ┌───┐»\n«a[6]:     ■─────┤ X ├──│────│────│────│────│────│────│────│────│──┤ X ├»\n«                └───┘  │    │    │    │    │    │    │    │    │  └─┬─┘»\n«a[7]:     ■────────────│────│────│────│────│────│────│────│────│────│──»\n«                       │    │  ┌─┴─┐  │    │    │    │    │    │    │  »\n«c[0]:     ■────────────■────■──┤ X ├──│────│────│────│────│────│────│──»\n«                               └───┘  │    │  ┌─┴─┐  │    │    │    │  »\n«c[1]:     ■───────────────────────────■────■──┤ X ├──│────│────│────│──»\n«                                              └───┘  │    │  ┌─┴─┐  │  »\n«c[2]:     ■──────────────────────────────────────────■────■──┤ X ├──│──»\n«                                                             └───┘  │  »\n«c[0]:     ■─────────────────────────────────────────────────────────■──»\n«                                                                       »\n«c: 8/     ■════════════════════════════════════════════════════════════»\n«                                                                       »\n«                                                        ┌───┐          »\n«a[0]:     ■──────────────────────────────────────────■──┤ X ├──■───────»\n«                                         ┌───┐       │  └─┬─┘  │       »\n«a[1]:     ■───────────────────────────■──┤ X ├──■────│────│────│───────»\n«                          ┌───┐       │  └─┬─┘  │    │    │    │       »\n«a[2]:     ■────────────■──┤ X ├──■────│────│────│────│────│────│───────»\n«           ┌───┐       │  └─┬─┘  │    │    │    │    │    │    │       »\n«a[3]:     ■┤ X ├──■────│────│────│────│────│────│────│────│────│───────»\n«           └─┬─┘  │    │    │    │    │    │    │    │    │    │       »\n«b[0]:     ■──│────│────│────│────│────│────│────│────│────│────│───────»\n«             │    │    │    │    │    │    │    │    │    │    │       »\n«b[1]:     ■──│────│────│────│────│────│────│────│────│────│────│───────»\n«             │    │    │    │    │    │    │    │    │    │    │       »\n«b[2]:     ■──│────│────│────│────│────│────│────│────│────│────│───────»\n«             │    │    │    │    │    │    │    │    │    │    │       »\n«b[3]:     ■──│────│────│────│────│────│────│────│────│────│────│───────»\n«             │    │    │    │    │    │    │    │    │    │    │       »\n«a[0]:     ■──│────│────│────│────│────│────│────│────│────│────│───────»\n«             │    │    │    │    │    │    │    │    │    │    │       »\n«a[1]:     ■──│────│────│────│────│────│────│────│────│────│────│───────»\n«             │    │    │    │    │    │    │    │    │    │    │       »\n«a[2]:     ■──│────│────│────│────│────│────│────│────│────│────│───────»\n«             │    │    │    │    │    │    │    │    │    │  ┌─┴─┐┌───┐»\n«a[3]:     ■──│────│────│────│────│────│────│────│────■────│──┤ X ├┤ X ├»\n«             │    │    │    │    │    │    │  ┌─┴─┐  │    │  └───┘└─┬─┘»\n«a[4]:     ■──│────│────│────│────│────■────│──┤ X ├──│────│─────────│──»\n«             │    │    │    │  ┌─┴─┐  │    │  └───┘  │    │         │  »\n«a[5]:     ■──│────│────■────│──┤ X ├──│────│─────────│────│─────────│──»\n«             │    │    │    │  └───┘  │    │         │    │         │  »\n«a[6]:     ■──│────■────│────│─────────│────│─────────│────│─────────│──»\n«             │    │    │    │         │    │         │    │         │  »\n«a[7]:     ■──│────│────│────│─────────│────│─────────│────│─────────│──»\n«             │    │    │    │         │    │       ┌─┴─┐  │         │  »\n«c[0]:     ■──│────│────│────│─────────│────│───────┤ X ├──■─────────■──»\n«             │    │    │    │       ┌─┴─┐  │       └───┘               »\n«c[1]:     ■──│────│────│────│───────┤ X ├──■───────────────────────────»\n«             │    │  ┌─┴─┐  │       └───┘                              »\n«c[2]:     ■──│────│──┤ X ├──■──────────────────────────────────────────»\n«             │  ┌─┴─┐└───┘                                             »\n«c[0]:     ■──■──┤ X ├──────────────────────────────────────────────────»\n«                └───┘                                                  »\n«c: 8/     ■════════════════════════════════════════════════════════════»\n«                                                                       »\n«           ┌───┐                                                       »\n«a[0]:     ■┤ X ├──■────────────────────────────────────────────────────»\n«           └─┬─┘  │       ┌───┐                                        »\n«a[1]:     ■──│────│───────┤ X ├──■─────────────────────────────────────»\n«             │    │       └─┬─┘  │       ┌───┐                         »\n«a[2]:     ■──│────│─────────│────│───────┤ X ├──■───────────────────■──»\n«             │    │         │    │       └─┬─┘  │       ┌───┐       │  »\n«a[3]:     ■──│────│─────────│────│─────────│────│───────┤ X ├──■────│──»\n«             │    │         │    │         │    │       └─┬─┘  │    │  »\n«b[0]:     ■──│────│─────────│────│─────────│────│─────────│────│────│──»\n«             │    │         │    │         │    │         │    │    │  »\n«b[1]:     ■──│────│─────────│────│─────────│────│─────────│────│────│──»\n«             │    │         │    │         │    │         │    │    │  »\n«b[2]:     ■──│────│─────────│────│─────────│────│─────────│────│────│──»\n«             │    │         │    │         │    │         │    │    │  »\n«b[3]:     ■──│────│─────────│────│─────────│────│─────────│────│────│──»\n«             │    │         │    │         │    │         │    │    │  »\n«a[0]:     ■──│────│─────────│────│─────────│────│─────────│────│────│──»\n«             │    │         │    │         │    │         │    │    │  »\n«a[1]:     ■──│────│─────────│────│─────────│────│─────────│────│────│──»\n«             │    │         │    │         │    │         │    │    │  »\n«a[2]:     ■──│────│─────────│────│─────────│────│─────────│────│────│──»\n«             │    │         │    │         │    │         │    │    │  »\n«a[3]:     ■──│────■─────────│────│─────────│────│─────────│────│────│──»\n«             │    │  ┌───┐  │    │         │    │         │    │    │  »\n«a[4]:     ■──│────│──┤ X ├──│────■─────────│────│─────────│────│────│──»\n«             │    │  └─┬─┘  │    │  ┌───┐  │    │         │    │    │  »\n«a[5]:     ■──│────│────│────│────│──┤ X ├──│────■─────────│────│────■──»\n«             │    │    │    │    │  └─┬─┘  │    │  ┌───┐  │    │    │  »\n«a[6]:     ■──│────│────│────│────│────│────│────│──┤ X ├──│────■────│──»\n«             │    │    │    │    │    │    │    │  └─┬─┘  │    │    │  »\n«a[7]:     ■──│────│────│────│────│────│────│────│────│────│────│────│──»\n«             │  ┌─┴─┐  │    │    │    │    │    │    │    │    │    │  »\n«c[0]:     ■──■──┤ X ├──│────│────│────│────│────│────│────│────│────│──»\n«                └───┘  │    │  ┌─┴─┐  │    │    │    │    │    │    │  »\n«c[1]:     ■────────────■────■──┤ X ├──│────│────│────│────│────│────│──»\n«                               └───┘  │    │  ┌─┴─┐  │    │    │  ┌─┴─┐»\n«c[2]:     ■───────────────────────────■────■──┤ X ├──│────│────│──┤ X ├»\n«                                              └───┘  │    │  ┌─┴─┐└───┘»\n«c[0]:     ■──────────────────────────────────────────■────■──┤ X ├─────»\n«                                                             └───┘     »\n«c: 8/     ■════════════════════════════════════════════════════════════»\n«                                                                       »\n«                                         ┌───┐                         »\n«a[0]:     ■───────────────────────────■──┤ X ├──■────■─────────────────»\n«                          ┌───┐       │  └─┬─┘  │    │                 »\n«a[1]:     ■────────────■──┤ X ├──■────│────│────│────│────■────────────»\n«           ┌───┐       │  └─┬─┘  │    │    │    │    │    │            »\n«a[2]:     ■┤ X ├──■────│────│────│────│────│────│────│────│────■───────»\n«           └─┬─┘  │    │    │    │    │    │    │    │    │    │       »\n«a[3]:     ■──│────│────│────│────│────│────│────│────│────│────│────■──»\n«             │    │    │    │    │    │    │    │    │    │    │    │  »\n«b[0]:     ■──│────│────│────│────│────│────│────│────│────│────│────│──»\n«             │    │    │    │    │    │    │    │    │    │    │    │  »\n«b[1]:     ■──│────│────│────│────│────│────│────│────│────│────│────│──»\n«             │    │    │    │    │    │    │    │    │    │    │    │  »\n«b[2]:     ■──│────│────│────│────│────│────│────│────│────│────│────│──»\n«             │    │    │    │    │    │    │    │    │    │    │    │  »\n«b[3]:     ■──│────│────│────│────│────│────│────│────│────│────│────│──»\n«             │    │    │    │    │    │    │    │    │    │    │    │  »\n«a[0]:     ■──│────│────│────│────│────│────│────│────│────│────│────│──»\n«             │    │    │    │    │    │    │    │    │    │    │    │  »\n«a[1]:     ■──│────│────│────│────│────│────│────│────│────│────│────│──»\n«             │    │    │    │    │    │    │    │    │    │    │    │  »\n«a[2]:     ■──│────│────│────│────│────│────│────│────│────│────│────│──»\n«             │    │    │    │    │    │    │  ┌─┴─┐┌─┴─┐  │    │    │  »\n«a[3]:     ■──│────│────│────│────│────■────│──┤ X ├┤ X ├──│────│────│──»\n«             │    │    │    │  ┌─┴─┐  │    │  └───┘└───┘┌─┴─┐  │    │  »\n«a[4]:     ■──│────│────■────│──┤ X ├──│────│────────────┤ X ├──│────│──»\n«             │  ┌─┴─┐  │    │  └───┘  │    │            └───┘┌─┴─┐  │  »\n«a[5]:     ■──│──┤ X ├──│────│─────────│────│─────────────────┤ X ├──│──»\n«             │  └───┘  │    │         │    │                 └───┘┌─┴─┐»\n«a[6]:     ■──│─────────│────│─────────│────│──────────────────────┤ X ├»\n«             │         │    │         │    │                      └───┘»\n«a[7]:     ■──│─────────│────│─────────│────│───────────────────────────»\n«             │         │    │       ┌─┴─┐  │                           »\n«c[0]:     ■──│─────────│────│───────┤ X ├──■───────────────────────────»\n«             │       ┌─┴─┐  │       └───┘                              »\n«c[1]:     ■──│───────┤ X ├──■──────────────────────────────────────────»\n«             │       └───┘                                             »\n«c[2]:     ■──■─────────────────────────────────────────────────────────»\n«                                                                       »\n«c[0]:     ■────────────────────────────────────────────────────────────»\n«                                                                       »\n«c: 8/     ■════════════════════════════════════════════════════════════»\n«                                                                       »\n«            ╎                                          \n«a[0]:     ■─╎───────────────────────────────────────── \n«            ╎                                          \n«a[1]:     ■─╎───────────────────────────────────────── \n«            ╎                                          \n«a[2]:     ■─╎───────────────────────────────────────── \n«            ╎                                          \n«a[3]:     ■─╎───────────────────────────────────────── \n«            ╎                                          \n«b[0]:     ■─╎───────────────────────────────────────── \n«            ╎                                          \n«b[1]:     ■─╎───────────────────────────────────────── \n«            ╎                                          \n«b[2]:     ■─╎───────────────────────────────────────── \n«            ╎                                          \n«b[3]:     ■─╎───────────────────────────────────────── \n«            ╎ ┌───┐                                    \n«a[0]:     ■─╎─┤ M ├─────────────────────────────────── \n«            ╎ └─╥─┘┌───┐                               \n«a[1]:     ■─╎───║──┤ M ├────────────────────────────── \n«            ╎   ║  └─╥─┘┌───┐                          \n«a[2]:     ■─╎───║────║──┤ M ├───────────────────────── \n«            ╎   ║    ║  └─╥─┘┌───┐                     \n«a[3]:     ■─╎───║────║────║──┤ M ├──────────────────── \n«            ╎   ║    ║    ║  └─╥─┘┌───┐                \n«a[4]:     ■─╎───║────║────║────║──┤ M ├─────────────── \n«            ╎   ║    ║    ║    ║  └─╥─┘┌───┐           \n«a[5]:     ■─╎───║────║────║────║────║──┤ M ├────────── \n«            ╎   ║    ║    ║    ║    ║  └─╥─┘┌───┐      \n«a[6]:     ■─╎───║────║────║────║────║────║──┤ M ├───── \n«            ╎   ║    ║    ║    ║    ║    ║  └─╥─┘┌───┐ \n«a[7]:     ■─╎───║────║────║────║────║────║────║──┤ M ├ \n«            ╎   ║    ║    ║    ║    ║    ║    ║  └─╥─┘ \n«c[0]:     ■─╎───║────║────║────║────║────║────║────║── \n«            ╎   ║    ║    ║    ║    ║    ║    ║    ║   \n«c[1]:     ■─╎───║────║────║────║────║────║────║────║── \n«            ╎   ║    ║    ║    ║    ║    ║    ║    ║   \n«c[2]:     ■─╎───║────║────║────║────║────║────║────║── \n«            ╎   ║    ║    ║    ║    ║    ║    ║    ║   \n«c[0]:     ■─╎───║────║────║────║────║────║────║────║── \n«            ╎   ║    ║    ║    ║    ║    ║    ║    ║   \n«c: 8/     ■═════╩════╩════╩════╩════╩════╩════╩════╩══ \n«                0    1    2    3    4    5    6    7   \n, 1024",
          "traceback": [
            "\u001b[0;31m---------------------------------------------------------------------------\u001b[0m",
            "\u001b[0;31mTypeError\u001b[0m                                 Traceback (most recent call last)",
            "\u001b[0;32m<ipython-input-25-d1980e2fb7ef>\u001b[0m in \u001b[0;36m<cell line: 0>\u001b[0;34m()\u001b[0m\n\u001b[0;32m----> 1\u001b[0;31m \u001b[0mjob\u001b[0m \u001b[0;34m=\u001b[0m \u001b[0mbackend\u001b[0m\u001b[0;34m.\u001b[0m\u001b[0mrun\u001b[0m\u001b[0;34m(\u001b[0m\u001b[0mqc\u001b[0m\u001b[0;34m,\u001b[0m \u001b[0mshots\u001b[0m\u001b[0;34m)\u001b[0m\u001b[0;34m\u001b[0m\u001b[0;34m\u001b[0m\u001b[0m\n\u001b[0m\u001b[1;32m      2\u001b[0m \u001b[0mjob_monitor\u001b[0m\u001b[0;34m(\u001b[0m\u001b[0mjob\u001b[0m\u001b[0;34m)\u001b[0m\u001b[0;34m\u001b[0m\u001b[0;34m\u001b[0m\u001b[0m\n\u001b[1;32m      3\u001b[0m \u001b[0mresult\u001b[0m \u001b[0;34m=\u001b[0m \u001b[0mjob\u001b[0m\u001b[0;34m.\u001b[0m\u001b[0mresult\u001b[0m\u001b[0;34m(\u001b[0m\u001b[0;34m)\u001b[0m\u001b[0;34m\u001b[0m\u001b[0;34m\u001b[0m\u001b[0m\n\u001b[1;32m      4\u001b[0m \u001b[0mcounts\u001b[0m \u001b[0;34m=\u001b[0m \u001b[0mresult\u001b[0m\u001b[0;34m.\u001b[0m\u001b[0mget_counts\u001b[0m\u001b[0;34m(\u001b[0m\u001b[0;34m)\u001b[0m\u001b[0;34m\u001b[0m\u001b[0;34m\u001b[0m\u001b[0m\n",
            "\u001b[0;31mTypeError\u001b[0m: run(): incompatible function arguments. The following argument types are supported:\n    1. (self: QuantumRingsLib.BackendV2, arg0: QuantumCircuit, **kwargs) -> QuantumRingsLib.JobV1\n\nInvoked with: Backend(backend_name = scarlet_quantum_rings,backend_version = 0.9.0,online_date = 9/12/2023,num_qubits = 200),            ┌───┐                         ┌───┐                         »\na[0]:     ■┤ X ├──■──────────────────────┤ X ├──■──────────────────────»\n           ├───┤  │                      └─┬─┘  │       ┌───┐          »\na[1]:     ■┤ X ├──│────■───────────────────│────│───────┤ X ├──■───────»\n           └───┘  │    │                   │    │       └─┬─┘  │       »\na[2]:     ■───────│────│────■──────────────│────│─────────│────│───────»\n                  │    │    │              │    │         │    │       »\na[3]:     ■───────│────│────│────■─────────│────│─────────│────│───────»\n                  │    │    │    │         │    │         │    │       »\nb[0]:     ■───────│────│────│────│─────────│────│─────────│────│───────»\n           ┌───┐  │    │    │    │         │    │         │    │       »\nb[1]:     ■┤ X ├──│────│────│────│─────────│────│─────────│────│───────»\n           └───┘  │    │    │    │         │    │         │    │       »\nb[2]:     ■───────│────│────│────│─────────│────│─────────│────│───────»\n                  │    │    │    │         │    │         │    │       »\nb[3]:     ■───────│────│────│────│─────────│────│─────────│────│───────»\n                ┌─┴─┐  │    │    │  ┌───┐  │    │         │    │       »\na[0]:     ■─────┤ X ├──│────│────│──┤ X ├──│────■─────────│────│───────»\n                └───┘┌─┴─┐  │    │  └─┬─┘  │    │  ┌───┐  │    │       »\na[1]:     ■──────────┤ X ├──│────│────│────│────│──┤ X ├──│────■───────»\n                     └───┘┌─┴─┐  │    │    │    │  └─┬─┘  │    │  ┌───┐»\na[2]:     ■───────────────┤ X ├──│────│────│────│────│────│────│──┤ X ├»\n                          └───┘┌─┴─┐  │    │    │    │    │    │  └─┬─┘»\na[3]:     ■────────────────────┤ X ├──│────│────│────│────│────│────│──»\n                               └───┘  │    │    │    │    │    │    │  »\na[4]:     ■───────────────────────────│────│────│────│────│────│────│──»\n                                      │    │    │    │    │    │    │  »\na[5]:     ■───────────────────────────│────│────│────│────│────│────│──»\n                                      │    │    │    │    │    │    │  »\na[6]:     ■───────────────────────────│────│────│────│────│────│────│──»\n                                      │    │    │    │    │    │    │  »\na[7]:     ■───────────────────────────│────│────│────│────│────│────│──»\n                                      │    │  ┌─┴─┐  │    │    │    │  »\nc[0]:     ■───────────────────────────■────■──┤ X ├──│────│────│────│──»\n                                              └───┘  │    │  ┌─┴─┐  │  »\nc[1]:     ■──────────────────────────────────────────■────■──┤ X ├──│──»\n                                                             └───┘  │  »\nc[2]:     ■─────────────────────────────────────────────────────────■──»\n                                                                       »\nc[0]:     ■────────────────────────────────────────────────────────────»\n                                                                       »\nc: 8/     ■════════════════════════════════════════════════════════════»\n                                                                       »\n«                                                                       »\n«a[0]:     ■─────────────────────────────────────────────────────────■──»\n«                                                        ┌───┐       │  »\n«a[1]:     ■──────────────────────────────────────────■──┤ X ├──■────│──»\n«           ┌───┐                         ┌───┐       │  └─┬─┘  │    │  »\n«a[2]:     ■┤ X ├──■───────────────────■──┤ X ├──■────│────│────│────│──»\n«           └─┬─┘  │       ┌───┐       │  └─┬─┘  │    │    │    │    │  »\n«a[3]:     ■──│────│───────┤ X ├──■────│────│────│────│────│────│────│──»\n«             │    │       └─┬─┘  │    │    │    │    │    │    │    │  »\n«b[0]:     ■──│────│─────────│────│────│────│────│────│────│────│────│──»\n«             │    │         │    │    │    │    │    │    │    │    │  »\n«b[1]:     ■──│────│─────────│────│────│────│────│────│────│────│────│──»\n«             │    │         │    │    │    │    │    │    │    │    │  »\n«b[2]:     ■──│────│─────────│────│────│────│────│────│────│────│────│──»\n«             │    │         │    │    │    │    │    │    │    │    │  »\n«b[3]:     ■──│────│─────────│────│────│────│────│────│────│────│────│──»\n«             │    │         │    │    │    │    │    │    │    │    │  »\n«a[0]:     ■──│────│─────────│────│────│────│────│────│────│────│────■──»\n«             │    │         │    │    │    │    │    │    │  ┌─┴─┐  │  »\n«a[1]:     ■──│────│─────────│────│────│────│────│────■────│──┤ X ├──│──»\n«             │    │         │    │    │    │  ┌─┴─┐  │    │  └───┘  │  »\n«a[2]:     ■──│────■─────────│────│────■────│──┤ X ├──│────│─────────│──»\n«             │    │  ┌───┐  │    │    │    │  └───┘  │    │         │  »\n«a[3]:     ■──│────│──┤ X ├──│────■────│────│─────────│────│─────────│──»\n«             │    │  └─┬─┘  │    │    │    │         │    │         │  »\n«a[4]:     ■──│────│────│────│────│────│────│─────────│────│─────────│──»\n«             │    │    │    │    │    │    │         │    │         │  »\n«a[5]:     ■──│────│────│────│────│────│────│─────────│────│─────────│──»\n«             │    │    │    │    │    │    │         │    │         │  »\n«a[6]:     ■──│────│────│────│────│────│────│─────────│────│─────────│──»\n«             │    │    │    │    │    │    │         │    │         │  »\n«a[7]:     ■──│────│────│────│────│────│────│─────────│────│─────────│──»\n«             │    │    │    │    │    │    │         │    │       ┌─┴─┐»\n«c[0]:     ■──│────│────│────│────│────│────│─────────│────│───────┤ X ├»\n«             │    │    │    │    │    │    │       ┌─┴─┐  │       └───┘»\n«c[1]:     ■──│────│────│────│────│────│────│───────┤ X ├──■────────────»\n«             │  ┌─┴─┐  │    │    │  ┌─┴─┐  │       └───┘               »\n«c[2]:     ■──■──┤ X ├──│────│────│──┤ X ├──■───────────────────────────»\n«                └───┘  │    │  ┌─┴─┐└───┘                              »\n«c[0]:     ■────────────■────■──┤ X ├───────────────────────────────────»\n«                               └───┘                                   »\n«c: 8/     ■════════════════════════════════════════════════════════════»\n«                                                                       »\n«           ┌───┐          ┌───┐                                        »\n«a[0]:     ■┤ X ├──■───────┤ X ├──■─────────────────────────────────────»\n«           └─┬─┘  │       └─┬─┘  │       ┌───┐                         »\n«a[1]:     ■──│────│─────────│────│───────┤ X ├──■──────────────────────»\n«             │    │         │    │       └─┬─┘  │       ┌───┐          »\n«a[2]:     ■──│────│─────────│────│─────────│────│───────┤ X ├──■───────»\n«             │    │         │    │         │    │       └─┬─┘  │       »\n«a[3]:     ■──│────│─────────│────│─────────│────│─────────│────│───────»\n«             │    │         │    │         │    │         │    │       »\n«b[0]:     ■──│────│─────────│────│─────────│────│─────────│────│───────»\n«             │    │         │    │         │    │         │    │       »\n«b[1]:     ■──│────│─────────│────│─────────│────│─────────│────│───────»\n«             │    │         │    │         │    │         │    │       »\n«b[2]:     ■──│────│─────────│────│─────────│────│─────────│────│───────»\n«             │    │         │    │         │    │         │    │       »\n«b[3]:     ■──│────│─────────│────│─────────│────│─────────│────│───────»\n«             │  ┌─┴─┐┌───┐  │    │         │    │         │    │       »\n«a[0]:     ■──│──┤ X ├┤ X ├──│────■─────────│────│─────────│────│───────»\n«             │  └───┘└─┬─┘  │    │  ┌───┐  │    │         │    │       »\n«a[1]:     ■──│─────────│────│────│──┤ X ├──│────■─────────│────│───────»\n«             │         │    │    │  └─┬─┘  │    │  ┌───┐  │    │       »\n«a[2]:     ■──│─────────│────│────│────│────│────│──┤ X ├──│────■───────»\n«             │         │    │    │    │    │    │  └─┬─┘  │    │  ┌───┐»\n«a[3]:     ■──│─────────│────│────│────│────│────│────│────│────│──┤ X ├»\n«             │         │    │    │    │    │    │    │    │    │  └─┬─┘»\n«a[4]:     ■──│─────────│────│────│────│────│────│────│────│────│────│──»\n«             │         │    │    │    │    │    │    │    │    │    │  »\n«a[5]:     ■──│─────────│────│────│────│────│────│────│────│────│────│──»\n«             │         │    │    │    │    │    │    │    │    │    │  »\n«a[6]:     ■──│─────────│────│────│────│────│────│────│────│────│────│──»\n«             │         │    │    │    │    │    │    │    │    │    │  »\n«a[7]:     ■──│─────────│────│────│────│────│────│────│────│────│────│──»\n«             │         │    │  ┌─┴─┐  │    │    │    │    │    │    │  »\n«c[0]:     ■──■─────────■────■──┤ X ├──│────│────│────│────│────│────│──»\n«                               └───┘  │    │  ┌─┴─┐  │    │    │    │  »\n«c[1]:     ■───────────────────────────■────■──┤ X ├──│────│────│────│──»\n«                                              └───┘  │    │  ┌─┴─┐  │  »\n«c[2]:     ■──────────────────────────────────────────■────■──┤ X ├──│──»\n«                                                             └───┘  │  »\n«c[0]:     ■─────────────────────────────────────────────────────────■──»\n«                                                                       »\n«c: 8/     ■════════════════════════════════════════════════════════════»\n«                                                                       »\n«                                                        ┌───┐          »\n«a[0]:     ■──────────────────────────────────────────■──┤ X ├──■────■──»\n«                                         ┌───┐       │  └─┬─┘  │    │  »\n«a[1]:     ■───────────────────────────■──┤ X ├──■────│────│────│────│──»\n«                          ┌───┐       │  └─┬─┘  │    │    │    │    │  »\n«a[2]:     ■────────────■──┤ X ├──■────│────│────│────│────│────│────│──»\n«           ┌───┐       │  └─┬─┘  │    │    │    │    │    │    │    │  »\n«a[3]:     ■┤ X ├──■────│────│────│────│────│────│────│────│────│────│──»\n«           └─┬─┘  │    │    │    │    │    │    │    │    │    │    │  »\n«b[0]:     ■──│────│────│────│────│────│────│────│────│────│────│────│──»\n«             │    │    │    │    │    │    │    │    │    │    │    │  »\n«b[1]:     ■──│────│────│────│────│────│────│────│────│────│────│────│──»\n«             │    │    │    │    │    │    │    │    │    │    │    │  »\n«b[2]:     ■──│────│────│────│────│────│────│────│────│────│────│────│──»\n«             │    │    │    │    │    │    │    │    │    │    │    │  »\n«b[3]:     ■──│────│────│────│────│────│────│────│────│────│────│────│──»\n«             │    │    │    │    │    │    │    │    │    │  ┌─┴─┐┌─┴─┐»\n«a[0]:     ■──│────│────│────│────│────│────│────│────■────│──┤ X ├┤ X ├»\n«             │    │    │    │    │    │    │  ┌─┴─┐  │    │  └───┘└───┘»\n«a[1]:     ■──│────│────│────│────│────■────│──┤ X ├──│────│────────────»\n«             │    │    │    │  ┌─┴─┐  │    │  └───┘  │    │            »\n«a[2]:     ■──│────│────■────│──┤ X ├──│────│─────────│────│────────────»\n«             │    │    │    │  └───┘  │    │         │    │            »\n«a[3]:     ■──│────■────│────│─────────│────│─────────│────│────────────»\n«             │    │    │    │         │    │         │    │            »\n«a[4]:     ■──│────│────│────│─────────│────│─────────│────│────────────»\n«             │    │    │    │         │    │         │    │            »\n«a[5]:     ■──│────│────│────│─────────│────│─────────│────│────────────»\n«             │    │    │    │         │    │         │    │            »\n«a[6]:     ■──│────│────│────│─────────│────│─────────│────│────────────»\n«             │    │    │    │         │    │         │    │            »\n«a[7]:     ■──│────│────│────│─────────│────│─────────│────│────────────»\n«             │    │    │    │         │    │       ┌─┴─┐  │            »\n«c[0]:     ■──│────│────│────│─────────│────│───────┤ X ├──■────────────»\n«             │    │    │    │       ┌─┴─┐  │       └───┘               »\n«c[1]:     ■──│────│────│────│───────┤ X ├──■───────────────────────────»\n«             │    │  ┌─┴─┐  │       └───┘                              »\n«c[2]:     ■──│────│──┤ X ├──■──────────────────────────────────────────»\n«             │  ┌─┴─┐└───┘                                             »\n«c[0]:     ■──■──┤ X ├──────────────────────────────────────────────────»\n«                └───┘                                                  »\n«c: 8/     ■════════════════════════════════════════════════════════════»\n«                                                                       »\n«                           ╎                          ┌───┐          »\n«a[0]:     ■────────────────╎───■──────────────────────┤ X ├──■───────»\n«                           ╎   │                      └─┬─┘  │       »\n«a[1]:     ■──■─────────────╎───│────■───────────────────│────│───────»\n«             │             ╎   │    │                   │    │       »\n«a[2]:     ■──│────■────────╎───│────│────■──────────────│────│───────»\n«             │    │        ╎   │    │    │              │    │       »\n«a[3]:     ■──│────│────■───╎───│────│────│────■─────────│────│───────»\n«             │    │    │   ╎   │    │    │    │         │    │       »\n«b[0]:     ■──│────│────│───╎───│────│────│────│─────────│────│───────»\n«             │    │    │   ╎   │    │    │    │         │    │       »\n«b[1]:     ■──│────│────│───╎───│────│────│────│─────────│────│───────»\n«             │    │    │   ╎   │    │    │    │         │    │       »\n«b[2]:     ■──│────│────│───╎───│────│────│────│─────────│────│───────»\n«             │    │    │   ╎   │    │    │    │         │    │       »\n«b[3]:     ■──│────│────│───╎───│────│────│────│─────────│────│───────»\n«             │    │    │   ╎   │    │    │    │         │    │       »\n«a[0]:     ■──│────│────│───╎───│────│────│────│─────────│────│───────»\n«           ┌─┴─┐  │    │   ╎ ┌─┴─┐  │    │    │  ┌───┐  │    │       »\n«a[1]:     ■┤ X ├──│────│───╎─┤ X ├──│────│────│──┤ X ├──│────■───────»\n«           └───┘┌─┴─┐  │   ╎ └───┘┌─┴─┐  │    │  └─┬─┘  │    │  ┌───┐»\n«a[2]:     ■─────┤ X ├──│───╎──────┤ X ├──│────│────│────│────│──┤ X ├»\n«                └───┘┌─┴─┐ ╎      └───┘┌─┴─┐  │    │    │    │  └─┬─┘»\n«a[3]:     ■──────────┤ X ├─╎───────────┤ X ├──│────│────│────│────│──»\n«                     └───┘ ╎           └───┘┌─┴─┐  │    │    │    │  »\n«a[4]:     ■────────────────╎────────────────┤ X ├──│────│────│────│──»\n«                           ╎                └───┘  │    │    │    │  »\n«a[5]:     ■────────────────╎───────────────────────│────│────│────│──»\n«                           ╎                       │    │    │    │  »\n«a[6]:     ■────────────────╎───────────────────────│────│────│────│──»\n«                           ╎                       │    │    │    │  »\n«a[7]:     ■────────────────╎───────────────────────│────│────│────│──»\n«                           ╎                       │    │  ┌─┴─┐  │  »\n«c[0]:     ■────────────────╎───────────────────────■────■──┤ X ├──│──»\n«                           ╎                               └───┘  │  »\n«c[1]:     ■────────────────╎──────────────────────────────────────■──»\n«                           ╎                                         »\n«c[2]:     ■────────────────╎─────────────────────────────────────────»\n«                           ╎                                         »\n«c[0]:     ■────────────────╎─────────────────────────────────────────»\n«                           ╎                                         »\n«c: 8/     ■══════════════════════════════════════════════════════════»\n«                                                                     »\n«                                                                       »\n«a[0]:     ■────────────────────────────────────────────────────────────»\n«           ┌───┐                                                       »\n«a[1]:     ■┤ X ├──■─────────────────────────────────────────────────■──»\n«           └─┬─┘  │       ┌───┐                         ┌───┐       │  »\n«a[2]:     ■──│────│───────┤ X ├──■───────────────────■──┤ X ├──■────│──»\n«             │    │       └─┬─┘  │       ┌───┐       │  └─┬─┘  │    │  »\n«a[3]:     ■──│────│─────────│────│───────┤ X ├──■────│────│────│────│──»\n«             │    │         │    │       └─┬─┘  │    │    │    │    │  »\n«b[0]:     ■──│────│─────────│────│─────────│────│────│────│────│────│──»\n«             │    │         │    │         │    │    │    │    │    │  »\n«b[1]:     ■──│────│─────────│────│─────────│────│────│────│────│────│──»\n«             │    │         │    │         │    │    │    │    │    │  »\n«b[2]:     ■──│────│─────────│────│─────────│────│────│────│────│────│──»\n«             │    │         │    │         │    │    │    │    │    │  »\n«b[3]:     ■──│────│─────────│────│─────────│────│────│────│────│────│──»\n«             │    │         │    │         │    │    │    │    │    │  »\n«a[0]:     ■──│────│─────────│────│─────────│────│────│────│────│────│──»\n«             │    │         │    │         │    │    │    │    │    │  »\n«a[1]:     ■──│────│─────────│────│─────────│────│────│────│────│────│──»\n«             │    │         │    │         │    │    │    │    │    │  »\n«a[2]:     ■──│────■─────────│────│─────────│────│────│────│────│────■──»\n«             │    │  ┌───┐  │    │         │    │    │    │  ┌─┴─┐  │  »\n«a[3]:     ■──│────│──┤ X ├──│────■─────────│────│────■────│──┤ X ├──│──»\n«             │    │  └─┬─┘  │    │  ┌───┐  │    │    │    │  └───┘  │  »\n«a[4]:     ■──│────│────│────│────│──┤ X ├──│────■────│────│─────────│──»\n«             │    │    │    │    │  └─┬─┘  │    │    │    │         │  »\n«a[5]:     ■──│────│────│────│────│────│────│────│────│────│─────────│──»\n«             │    │    │    │    │    │    │    │    │    │         │  »\n«a[6]:     ■──│────│────│────│────│────│────│────│────│────│─────────│──»\n«             │    │    │    │    │    │    │    │    │    │         │  »\n«a[7]:     ■──│────│────│────│────│────│────│────│────│────│─────────│──»\n«             │    │    │    │    │    │    │    │    │    │         │  »\n«c[0]:     ■──│────│────│────│────│────│────│────│────│────│─────────│──»\n«             │  ┌─┴─┐  │    │    │    │    │    │    │    │       ┌─┴─┐»\n«c[1]:     ■──■──┤ X ├──│────│────│────│────│────│────│────│───────┤ X ├»\n«                └───┘  │    │  ┌─┴─┐  │    │    │  ┌─┴─┐  │       └───┘»\n«c[2]:     ■────────────■────■──┤ X ├──│────│────│──┤ X ├──■────────────»\n«                               └───┘  │    │  ┌─┴─┐└───┘               »\n«c[0]:     ■───────────────────────────■────■──┤ X ├────────────────────»\n«                                              └───┘                    »\n«c: 8/     ■════════════════════════════════════════════════════════════»\n«                                                                       »\n«                          ┌───┐          ┌───┐                         »\n«a[0]:     ■────────────■──┤ X ├──■───────┤ X ├──■──────────────────────»\n«           ┌───┐       │  └─┬─┘  │       └─┬─┘  │       ┌───┐          »\n«a[1]:     ■┤ X ├──■────│────│────│─────────│────│───────┤ X ├──■───────»\n«           └─┬─┘  │    │    │    │         │    │       └─┬─┘  │       »\n«a[2]:     ■──│────│────│────│────│─────────│────│─────────│────│───────»\n«             │    │    │    │    │         │    │         │    │       »\n«a[3]:     ■──│────│────│────│────│─────────│────│─────────│────│───────»\n«             │    │    │    │    │         │    │         │    │       »\n«b[0]:     ■──│────│────│────│────│─────────│────│─────────│────│───────»\n«             │    │    │    │    │         │    │         │    │       »\n«b[1]:     ■──│────│────│────│────│─────────│────│─────────│────│───────»\n«             │    │    │    │    │         │    │         │    │       »\n«b[2]:     ■──│────│────│────│────│─────────│────│─────────│────│───────»\n«             │    │    │    │    │         │    │         │    │       »\n«b[3]:     ■──│────│────│────│────│─────────│────│─────────│────│───────»\n«             │    │    │    │    │         │    │         │    │       »\n«a[0]:     ■──│────│────│────│────│─────────│────│─────────│────│───────»\n«             │    │    │    │  ┌─┴─┐┌───┐  │    │         │    │       »\n«a[1]:     ■──│────│────■────│──┤ X ├┤ X ├──│────■─────────│────│───────»\n«             │  ┌─┴─┐  │    │  └───┘└─┬─┘  │    │  ┌───┐  │    │       »\n«a[2]:     ■──│──┤ X ├──│────│─────────│────│────│──┤ X ├──│────■───────»\n«             │  └───┘  │    │         │    │    │  └─┬─┘  │    │  ┌───┐»\n«a[3]:     ■──│─────────│────│─────────│────│────│────│────│────│──┤ X ├»\n«             │         │    │         │    │    │    │    │    │  └─┬─┘»\n«a[4]:     ■──│─────────│────│─────────│────│────│────│────│────│────│──»\n«             │         │    │         │    │    │    │    │    │    │  »\n«a[5]:     ■──│─────────│────│─────────│────│────│────│────│────│────│──»\n«             │         │    │         │    │    │    │    │    │    │  »\n«a[6]:     ■──│─────────│────│─────────│────│────│────│────│────│────│──»\n«             │         │    │         │    │    │    │    │    │    │  »\n«a[7]:     ■──│─────────│────│─────────│────│────│────│────│────│────│──»\n«             │       ┌─┴─┐  │         │    │  ┌─┴─┐  │    │    │    │  »\n«c[0]:     ■──│───────┤ X ├──■─────────■────■──┤ X ├──│────│────│────│──»\n«             │       └───┘                    └───┘  │    │  ┌─┴─┐  │  »\n«c[1]:     ■──■───────────────────────────────────────■────■──┤ X ├──│──»\n«                                                             └───┘  │  »\n«c[2]:     ■─────────────────────────────────────────────────────────■──»\n«                                                                       »\n«c[0]:     ■────────────────────────────────────────────────────────────»\n«                                                                       »\n«c: 8/     ■════════════════════════════════════════════════════════════»\n«                                                                       »\n«                                                                       »\n«a[0]:     ■─────────────────────────────────────────────────────────■──»\n«                                                        ┌───┐       │  »\n«a[1]:     ■──────────────────────────────────────────■──┤ X ├──■────│──»\n«           ┌───┐                         ┌───┐       │  └─┬─┘  │    │  »\n«a[2]:     ■┤ X ├──■───────────────────■──┤ X ├──■────│────│────│────│──»\n«           └─┬─┘  │       ┌───┐       │  └─┬─┘  │    │    │    │    │  »\n«a[3]:     ■──│────│───────┤ X ├──■────│────│────│────│────│────│────│──»\n«             │    │       └─┬─┘  │    │    │    │    │    │    │    │  »\n«b[0]:     ■──│────│─────────│────│────│────│────│────│────│────│────│──»\n«             │    │         │    │    │    │    │    │    │    │    │  »\n«b[1]:     ■──│────│─────────│────│────│────│────│────│────│────│────│──»\n«             │    │         │    │    │    │    │    │    │    │    │  »\n«b[2]:     ■──│────│─────────│────│────│────│────│────│────│────│────│──»\n«             │    │         │    │    │    │    │    │    │    │    │  »\n«b[3]:     ■──│────│─────────│────│────│────│────│────│────│────│────│──»\n«             │    │         │    │    │    │    │    │    │    │    │  »\n«a[0]:     ■──│────│─────────│────│────│────│────│────│────│────│────│──»\n«             │    │         │    │    │    │    │    │    │    │    │  »\n«a[1]:     ■──│────│─────────│────│────│────│────│────│────│────│────■──»\n«             │    │         │    │    │    │    │    │    │  ┌─┴─┐  │  »\n«a[2]:     ■──│────│─────────│────│────│────│────│────■────│──┤ X ├──│──»\n«             │    │         │    │    │    │  ┌─┴─┐  │    │  └───┘  │  »\n«a[3]:     ■──│────■─────────│────│────■────│──┤ X ├──│────│─────────│──»\n«             │    │  ┌───┐  │    │    │    │  └───┘  │    │         │  »\n«a[4]:     ■──│────│──┤ X ├──│────■────│────│─────────│────│─────────│──»\n«             │    │  └─┬─┘  │    │    │    │         │    │         │  »\n«a[5]:     ■──│────│────│────│────│────│────│─────────│────│─────────│──»\n«             │    │    │    │    │    │    │         │    │         │  »\n«a[6]:     ■──│────│────│────│────│────│────│─────────│────│─────────│──»\n«             │    │    │    │    │    │    │         │    │         │  »\n«a[7]:     ■──│────│────│────│────│────│────│─────────│────│─────────│──»\n«             │    │    │    │    │    │    │         │    │       ┌─┴─┐»\n«c[0]:     ■──│────│────│────│────│────│────│─────────│────│───────┤ X ├»\n«             │    │    │    │    │    │    │       ┌─┴─┐  │       └───┘»\n«c[1]:     ■──│────│────│────│────│────│────│───────┤ X ├──■────────────»\n«             │  ┌─┴─┐  │    │    │  ┌─┴─┐  │       └───┘               »\n«c[2]:     ■──■──┤ X ├──│────│────│──┤ X ├──■───────────────────────────»\n«                └───┘  │    │  ┌─┴─┐└───┘                              »\n«c[0]:     ■────────────■────■──┤ X ├───────────────────────────────────»\n«                               └───┘                                   »\n«c: 8/     ■════════════════════════════════════════════════════════════»\n«                                                                       »\n«           ┌───┐                          ╎                          »\n«a[0]:     ■┤ X ├──■────■──────────────────╎───■──────────────────────»\n«           └─┬─┘  │    │                  ╎   │                      »\n«a[1]:     ■──│────│────│────■─────────────╎───│────■─────────────────»\n«             │    │    │    │             ╎   │    │                 »\n«a[2]:     ■──│────│────│────│────■────────╎───│────│────■────────────»\n«             │    │    │    │    │        ╎   │    │    │            »\n«a[3]:     ■──│────│────│────│────│────■───╎───│────│────│────■───────»\n«             │    │    │    │    │    │   ╎   │    │    │    │       »\n«b[0]:     ■──│────│────│────│────│────│───╎───│────│────│────│───────»\n«             │    │    │    │    │    │   ╎   │    │    │    │       »\n«b[1]:     ■──│────│────│────│────│────│───╎───│────│────│────│───────»\n«             │    │    │    │    │    │   ╎   │    │    │    │       »\n«b[2]:     ■──│────│────│────│────│────│───╎───│────│────│────│───────»\n«             │    │    │    │    │    │   ╎   │    │    │    │       »\n«b[3]:     ■──│────│────│────│────│────│───╎───│────│────│────│───────»\n«             │    │    │    │    │    │   ╎   │    │    │    │       »\n«a[0]:     ■──│────│────│────│────│────│───╎───│────│────│────│───────»\n«             │  ┌─┴─┐┌─┴─┐  │    │    │   ╎   │    │    │    │       »\n«a[1]:     ■──│──┤ X ├┤ X ├──│────│────│───╎───│────│────│────│───────»\n«             │  └───┘└───┘┌─┴─┐  │    │   ╎ ┌─┴─┐  │    │    │  ┌───┐»\n«a[2]:     ■──│────────────┤ X ├──│────│───╎─┤ X ├──│────│────│──┤ X ├»\n«             │            └───┘┌─┴─┐  │   ╎ └───┘┌─┴─┐  │    │  └─┬─┘»\n«a[3]:     ■──│─────────────────┤ X ├──│───╎──────┤ X ├──│────│────│──»\n«             │                 └───┘┌─┴─┐ ╎      └───┘┌─┴─┐  │    │  »\n«a[4]:     ■──│──────────────────────┤ X ├─╎───────────┤ X ├──│────│──»\n«             │                      └───┘ ╎           └───┘┌─┴─┐  │  »\n«a[5]:     ■──│────────────────────────────╎────────────────┤ X ├──│──»\n«             │                            ╎                └───┘  │  »\n«a[6]:     ■──│────────────────────────────╎───────────────────────│──»\n«             │                            ╎                       │  »\n«a[7]:     ■──│────────────────────────────╎───────────────────────│──»\n«             │                            ╎                       │  »\n«c[0]:     ■──■────────────────────────────╎───────────────────────■──»\n«                                          ╎                          »\n«c[1]:     ■───────────────────────────────╎──────────────────────────»\n«                                          ╎                          »\n«c[2]:     ■───────────────────────────────╎──────────────────────────»\n«                                          ╎                          »\n«c[0]:     ■───────────────────────────────╎──────────────────────────»\n«                                          ╎                          »\n«c: 8/     ■══════════════════════════════════════════════════════════»\n«                                                                     »\n«           ┌───┐                                                       »\n«a[0]:     ■┤ X ├──■────────────────────────────────────────────────────»\n«           └─┬─┘  │       ┌───┐                                        »\n«a[1]:     ■──│────│───────┤ X ├──■─────────────────────────────────────»\n«             │    │       └─┬─┘  │       ┌───┐                         »\n«a[2]:     ■──│────│─────────│────│───────┤ X ├──■───────────────────■──»\n«             │    │         │    │       └─┬─┘  │       ┌───┐       │  »\n«a[3]:     ■──│────│─────────│────│─────────│────│───────┤ X ├──■────│──»\n«             │    │         │    │         │    │       └─┬─┘  │    │  »\n«b[0]:     ■──│────│─────────│────│─────────│────│─────────│────│────│──»\n«             │    │         │    │         │    │         │    │    │  »\n«b[1]:     ■──│────│─────────│────│─────────│────│─────────│────│────│──»\n«             │    │         │    │         │    │         │    │    │  »\n«b[2]:     ■──│────│─────────│────│─────────│────│─────────│────│────│──»\n«             │    │         │    │         │    │         │    │    │  »\n«b[3]:     ■──│────│─────────│────│─────────│────│─────────│────│────│──»\n«             │    │         │    │         │    │         │    │    │  »\n«a[0]:     ■──│────│─────────│────│─────────│────│─────────│────│────│──»\n«             │    │         │    │         │    │         │    │    │  »\n«a[1]:     ■──│────│─────────│────│─────────│────│─────────│────│────│──»\n«             │    │         │    │         │    │         │    │    │  »\n«a[2]:     ■──│────■─────────│────│─────────│────│─────────│────│────│──»\n«             │    │  ┌───┐  │    │         │    │         │    │    │  »\n«a[3]:     ■──│────│──┤ X ├──│────■─────────│────│─────────│────│────│──»\n«             │    │  └─┬─┘  │    │  ┌───┐  │    │         │    │    │  »\n«a[4]:     ■──│────│────│────│────│──┤ X ├──│────■─────────│────│────■──»\n«             │    │    │    │    │  └─┬─┘  │    │  ┌───┐  │    │    │  »\n«a[5]:     ■──│────│────│────│────│────│────│────│──┤ X ├──│────■────│──»\n«             │    │    │    │    │    │    │    │  └─┬─┘  │    │    │  »\n«a[6]:     ■──│────│────│────│────│────│────│────│────│────│────│────│──»\n«             │    │    │    │    │    │    │    │    │    │    │    │  »\n«a[7]:     ■──│────│────│────│────│────│────│────│────│────│────│────│──»\n«             │  ┌─┴─┐  │    │    │    │    │    │    │    │    │    │  »\n«c[0]:     ■──■──┤ X ├──│────│────│────│────│────│────│────│────│────│──»\n«                └───┘  │    │  ┌─┴─┐  │    │    │    │    │    │    │  »\n«c[1]:     ■────────────■────■──┤ X ├──│────│────│────│────│────│────│──»\n«                               └───┘  │    │  ┌─┴─┐  │    │    │  ┌─┴─┐»\n«c[2]:     ■───────────────────────────■────■──┤ X ├──│────│────│──┤ X ├»\n«                                              └───┘  │    │  ┌─┴─┐└───┘»\n«c[0]:     ■──────────────────────────────────────────■────■──┤ X ├─────»\n«                                                             └───┘     »\n«c: 8/     ■════════════════════════════════════════════════════════════»\n«                                                                       »\n«                                         ┌───┐          ┌───┐          »\n«a[0]:     ■───────────────────────────■──┤ X ├──■───────┤ X ├──■───────»\n«                          ┌───┐       │  └─┬─┘  │       └─┬─┘  │       »\n«a[1]:     ■────────────■──┤ X ├──■────│────│────│─────────│────│───────»\n«           ┌───┐       │  └─┬─┘  │    │    │    │         │    │       »\n«a[2]:     ■┤ X ├──■────│────│────│────│────│────│─────────│────│───────»\n«           └─┬─┘  │    │    │    │    │    │    │         │    │       »\n«a[3]:     ■──│────│────│────│────│────│────│────│─────────│────│───────»\n«             │    │    │    │    │    │    │    │         │    │       »\n«b[0]:     ■──│────│────│────│────│────│────│────│─────────│────│───────»\n«             │    │    │    │    │    │    │    │         │    │       »\n«b[1]:     ■──│────│────│────│────│────│────│────│─────────│────│───────»\n«             │    │    │    │    │    │    │    │         │    │       »\n«b[2]:     ■──│────│────│────│────│────│────│────│─────────│────│───────»\n«             │    │    │    │    │    │    │    │         │    │       »\n«b[3]:     ■──│────│────│────│────│────│────│────│─────────│────│───────»\n«             │    │    │    │    │    │    │    │         │    │       »\n«a[0]:     ■──│────│────│────│────│────│────│────│─────────│────│───────»\n«             │    │    │    │    │    │    │    │         │    │       »\n«a[1]:     ■──│────│────│────│────│────│────│────│─────────│────│───────»\n«             │    │    │    │    │    │    │  ┌─┴─┐┌───┐  │    │       »\n«a[2]:     ■──│────│────│────│────│────■────│──┤ X ├┤ X ├──│────■───────»\n«             │    │    │    │  ┌─┴─┐  │    │  └───┘└─┬─┘  │    │  ┌───┐»\n«a[3]:     ■──│────│────■────│──┤ X ├──│────│─────────│────│────│──┤ X ├»\n«             │  ┌─┴─┐  │    │  └───┘  │    │         │    │    │  └─┬─┘»\n«a[4]:     ■──│──┤ X ├──│────│─────────│────│─────────│────│────│────│──»\n«             │  └───┘  │    │         │    │         │    │    │    │  »\n«a[5]:     ■──│─────────│────│─────────│────│─────────│────│────│────│──»\n«             │         │    │         │    │         │    │    │    │  »\n«a[6]:     ■──│─────────│────│─────────│────│─────────│────│────│────│──»\n«             │         │    │         │    │         │    │    │    │  »\n«a[7]:     ■──│─────────│────│─────────│────│─────────│────│────│────│──»\n«             │         │    │       ┌─┴─┐  │         │    │  ┌─┴─┐  │  »\n«c[0]:     ■──│─────────│────│───────┤ X ├──■─────────■────■──┤ X ├──│──»\n«             │       ┌─┴─┐  │       └───┘                    └───┘  │  »\n«c[1]:     ■──│───────┤ X ├──■───────────────────────────────────────■──»\n«             │       └───┘                                             »\n«c[2]:     ■──■─────────────────────────────────────────────────────────»\n«                                                                       »\n«c[0]:     ■────────────────────────────────────────────────────────────»\n«                                                                       »\n«c: 8/     ■════════════════════════════════════════════════════════════»\n«                                                                       »\n«                                                                       »\n«a[0]:     ■────────────────────────────────────────────────────────────»\n«           ┌───┐                                                       »\n«a[1]:     ■┤ X ├──■─────────────────────────────────────────────────■──»\n«           └─┬─┘  │       ┌───┐                         ┌───┐       │  »\n«a[2]:     ■──│────│───────┤ X ├──■───────────────────■──┤ X ├──■────│──»\n«             │    │       └─┬─┘  │       ┌───┐       │  └─┬─┘  │    │  »\n«a[3]:     ■──│────│─────────│────│───────┤ X ├──■────│────│────│────│──»\n«             │    │         │    │       └─┬─┘  │    │    │    │    │  »\n«b[0]:     ■──│────│─────────│────│─────────│────│────│────│────│────│──»\n«             │    │         │    │         │    │    │    │    │    │  »\n«b[1]:     ■──│────│─────────│────│─────────│────│────│────│────│────│──»\n«             │    │         │    │         │    │    │    │    │    │  »\n«b[2]:     ■──│────│─────────│────│─────────│────│────│────│────│────│──»\n«             │    │         │    │         │    │    │    │    │    │  »\n«b[3]:     ■──│────│─────────│────│─────────│────│────│────│────│────│──»\n«             │    │         │    │         │    │    │    │    │    │  »\n«a[0]:     ■──│────│─────────│────│─────────│────│────│────│────│────│──»\n«             │    │         │    │         │    │    │    │    │    │  »\n«a[1]:     ■──│────│─────────│────│─────────│────│────│────│────│────│──»\n«             │    │         │    │         │    │    │    │    │    │  »\n«a[2]:     ■──│────│─────────│────│─────────│────│────│────│────│────│──»\n«             │    │         │    │         │    │    │    │    │    │  »\n«a[3]:     ■──│────■─────────│────│─────────│────│────│────│────│────■──»\n«             │    │  ┌───┐  │    │         │    │    │    │  ┌─┴─┐  │  »\n«a[4]:     ■──│────│──┤ X ├──│────■─────────│────│────■────│──┤ X ├──│──»\n«             │    │  └─┬─┘  │    │  ┌───┐  │    │    │    │  └───┘  │  »\n«a[5]:     ■──│────│────│────│────│──┤ X ├──│────■────│────│─────────│──»\n«             │    │    │    │    │  └─┬─┘  │    │    │    │         │  »\n«a[6]:     ■──│────│────│────│────│────│────│────│────│────│─────────│──»\n«             │    │    │    │    │    │    │    │    │    │         │  »\n«a[7]:     ■──│────│────│────│────│────│────│────│────│────│─────────│──»\n«             │    │    │    │    │    │    │    │    │    │         │  »\n«c[0]:     ■──│────│────│────│────│────│────│────│────│────│─────────│──»\n«             │  ┌─┴─┐  │    │    │    │    │    │    │    │       ┌─┴─┐»\n«c[1]:     ■──■──┤ X ├──│────│────│────│────│────│────│────│───────┤ X ├»\n«                └───┘  │    │  ┌─┴─┐  │    │    │  ┌─┴─┐  │       └───┘»\n«c[2]:     ■────────────■────■──┤ X ├──│────│────│──┤ X ├──■────────────»\n«                               └───┘  │    │  ┌─┴─┐└───┘               »\n«c[0]:     ■───────────────────────────■────■──┤ X ├────────────────────»\n«                                              └───┘                    »\n«c: 8/     ■════════════════════════════════════════════════════════════»\n«                                                                       »\n«                          ┌───┐                          ╎           »\n«a[0]:     ■────────────■──┤ X ├──■────■──────────────────╎───■───────»\n«           ┌───┐       │  └─┬─┘  │    │                  ╎   │       »\n«a[1]:     ■┤ X ├──■────│────│────│────│────■─────────────╎───│────■──»\n«           └─┬─┘  │    │    │    │    │    │             ╎   │    │  »\n«a[2]:     ■──│────│────│────│────│────│────│────■────────╎───│────│──»\n«             │    │    │    │    │    │    │    │        ╎   │    │  »\n«a[3]:     ■──│────│────│────│────│────│────│────│────■───╎───│────│──»\n«             │    │    │    │    │    │    │    │    │   ╎   │    │  »\n«b[0]:     ■──│────│────│────│────│────│────│────│────│───╎───│────│──»\n«             │    │    │    │    │    │    │    │    │   ╎   │    │  »\n«b[1]:     ■──│────│────│────│────│────│────│────│────│───╎───│────│──»\n«             │    │    │    │    │    │    │    │    │   ╎   │    │  »\n«b[2]:     ■──│────│────│────│────│────│────│────│────│───╎───│────│──»\n«             │    │    │    │    │    │    │    │    │   ╎   │    │  »\n«b[3]:     ■──│────│────│────│────│────│────│────│────│───╎───│────│──»\n«             │    │    │    │    │    │    │    │    │   ╎   │    │  »\n«a[0]:     ■──│────│────│────│────│────│────│────│────│───╎───│────│──»\n«             │    │    │    │    │    │    │    │    │   ╎   │    │  »\n«a[1]:     ■──│────│────│────│────│────│────│────│────│───╎───│────│──»\n«             │    │    │    │  ┌─┴─┐┌─┴─┐  │    │    │   ╎   │    │  »\n«a[2]:     ■──│────│────■────│──┤ X ├┤ X ├──│────│────│───╎───│────│──»\n«             │  ┌─┴─┐  │    │  └───┘└───┘┌─┴─┐  │    │   ╎ ┌─┴─┐  │  »\n«a[3]:     ■──│──┤ X ├──│────│────────────┤ X ├──│────│───╎─┤ X ├──│──»\n«             │  └───┘  │    │            └───┘┌─┴─┐  │   ╎ └───┘┌─┴─┐»\n«a[4]:     ■──│─────────│────│─────────────────┤ X ├──│───╎──────┤ X ├»\n«             │         │    │                 └───┘┌─┴─┐ ╎      └───┘»\n«a[5]:     ■──│─────────│────│──────────────────────┤ X ├─╎───────────»\n«             │         │    │                      └───┘ ╎           »\n«a[6]:     ■──│─────────│────│────────────────────────────╎───────────»\n«             │         │    │                            ╎           »\n«a[7]:     ■──│─────────│────│────────────────────────────╎───────────»\n«             │       ┌─┴─┐  │                            ╎           »\n«c[0]:     ■──│───────┤ X ├──■────────────────────────────╎───────────»\n«             │       └───┘                               ╎           »\n«c[1]:     ■──■───────────────────────────────────────────╎───────────»\n«                                                         ╎           »\n«c[2]:     ■──────────────────────────────────────────────╎───────────»\n«                                                         ╎           »\n«c[0]:     ■──────────────────────────────────────────────╎───────────»\n«                                                         ╎           »\n«c: 8/     ■══════════════════════════════════════════════════════════»\n«                                                                     »\n«                          ┌───┐                                        »\n«a[0]:     ■───────────────┤ X ├──■─────────────────────────────────────»\n«                          └─┬─┘  │       ┌───┐                         »\n«a[1]:     ■─────────────────│────│───────┤ X ├──■──────────────────────»\n«                            │    │       └─┬─┘  │       ┌───┐          »\n«a[2]:     ■──■──────────────│────│─────────│────│───────┤ X ├──■───────»\n«             │              │    │         │    │       └─┬─┘  │       »\n«a[3]:     ■──│────■─────────│────│─────────│────│─────────│────│───────»\n«             │    │         │    │         │    │         │    │       »\n«b[0]:     ■──│────│─────────│────│─────────│────│─────────│────│───────»\n«             │    │         │    │         │    │         │    │       »\n«b[1]:     ■──│────│─────────│────│─────────│────│─────────│────│───────»\n«             │    │         │    │         │    │         │    │       »\n«b[2]:     ■──│────│─────────│────│─────────│────│─────────│────│───────»\n«             │    │         │    │         │    │         │    │       »\n«b[3]:     ■──│────│─────────│────│─────────│────│─────────│────│───────»\n«             │    │         │    │         │    │         │    │       »\n«a[0]:     ■──│────│─────────│────│─────────│────│─────────│────│───────»\n«             │    │         │    │         │    │         │    │       »\n«a[1]:     ■──│────│─────────│────│─────────│────│─────────│────│───────»\n«             │    │         │    │         │    │         │    │       »\n«a[2]:     ■──│────│─────────│────│─────────│────│─────────│────│───────»\n«             │    │  ┌───┐  │    │         │    │         │    │       »\n«a[3]:     ■──│────│──┤ X ├──│────■─────────│────│─────────│────│───────»\n«             │    │  └─┬─┘  │    │  ┌───┐  │    │         │    │       »\n«a[4]:     ■──│────│────│────│────│──┤ X ├──│────■─────────│────│───────»\n«           ┌─┴─┐  │    │    │    │  └─┬─┘  │    │  ┌───┐  │    │       »\n«a[5]:     ■┤ X ├──│────│────│────│────│────│────│──┤ X ├──│────■───────»\n«           └───┘┌─┴─┐  │    │    │    │    │    │  └─┬─┘  │    │  ┌───┐»\n«a[6]:     ■─────┤ X ├──│────│────│────│────│────│────│────│────│──┤ X ├»\n«                └───┘  │    │    │    │    │    │    │    │    │  └─┬─┘»\n«a[7]:     ■────────────│────│────│────│────│────│────│────│────│────│──»\n«                       │    │  ┌─┴─┐  │    │    │    │    │    │    │  »\n«c[0]:     ■────────────■────■──┤ X ├──│────│────│────│────│────│────│──»\n«                               └───┘  │    │  ┌─┴─┐  │    │    │    │  »\n«c[1]:     ■───────────────────────────■────■──┤ X ├──│────│────│────│──»\n«                                              └───┘  │    │  ┌─┴─┐  │  »\n«c[2]:     ■──────────────────────────────────────────■────■──┤ X ├──│──»\n«                                                             └───┘  │  »\n«c[0]:     ■─────────────────────────────────────────────────────────■──»\n«                                                                       »\n«c: 8/     ■════════════════════════════════════════════════════════════»\n«                                                                       »\n«                                                        ┌───┐          »\n«a[0]:     ■──────────────────────────────────────────■──┤ X ├──■───────»\n«                                         ┌───┐       │  └─┬─┘  │       »\n«a[1]:     ■───────────────────────────■──┤ X ├──■────│────│────│───────»\n«                          ┌───┐       │  └─┬─┘  │    │    │    │       »\n«a[2]:     ■────────────■──┤ X ├──■────│────│────│────│────│────│───────»\n«           ┌───┐       │  └─┬─┘  │    │    │    │    │    │    │       »\n«a[3]:     ■┤ X ├──■────│────│────│────│────│────│────│────│────│───────»\n«           └─┬─┘  │    │    │    │    │    │    │    │    │    │       »\n«b[0]:     ■──│────│────│────│────│────│────│────│────│────│────│───────»\n«             │    │    │    │    │    │    │    │    │    │    │       »\n«b[1]:     ■──│────│────│────│────│────│────│────│────│────│────│───────»\n«             │    │    │    │    │    │    │    │    │    │    │       »\n«b[2]:     ■──│────│────│────│────│────│────│────│────│────│────│───────»\n«             │    │    │    │    │    │    │    │    │    │    │       »\n«b[3]:     ■──│────│────│────│────│────│────│────│────│────│────│───────»\n«             │    │    │    │    │    │    │    │    │    │    │       »\n«a[0]:     ■──│────│────│────│────│────│────│────│────│────│────│───────»\n«             │    │    │    │    │    │    │    │    │    │    │       »\n«a[1]:     ■──│────│────│────│────│────│────│────│────│────│────│───────»\n«             │    │    │    │    │    │    │    │    │    │    │       »\n«a[2]:     ■──│────│────│────│────│────│────│────│────│────│────│───────»\n«             │    │    │    │    │    │    │    │    │    │  ┌─┴─┐┌───┐»\n«a[3]:     ■──│────│────│────│────│────│────│────│────■────│──┤ X ├┤ X ├»\n«             │    │    │    │    │    │    │  ┌─┴─┐  │    │  └───┘└─┬─┘»\n«a[4]:     ■──│────│────│────│────│────■────│──┤ X ├──│────│─────────│──»\n«             │    │    │    │  ┌─┴─┐  │    │  └───┘  │    │         │  »\n«a[5]:     ■──│────│────■────│──┤ X ├──│────│─────────│────│─────────│──»\n«             │    │    │    │  └───┘  │    │         │    │         │  »\n«a[6]:     ■──│────■────│────│─────────│────│─────────│────│─────────│──»\n«             │    │    │    │         │    │         │    │         │  »\n«a[7]:     ■──│────│────│────│─────────│────│─────────│────│─────────│──»\n«             │    │    │    │         │    │       ┌─┴─┐  │         │  »\n«c[0]:     ■──│────│────│────│─────────│────│───────┤ X ├──■─────────■──»\n«             │    │    │    │       ┌─┴─┐  │       └───┘               »\n«c[1]:     ■──│────│────│────│───────┤ X ├──■───────────────────────────»\n«             │    │  ┌─┴─┐  │       └───┘                              »\n«c[2]:     ■──│────│──┤ X ├──■──────────────────────────────────────────»\n«             │  ┌─┴─┐└───┘                                             »\n«c[0]:     ■──■──┤ X ├──────────────────────────────────────────────────»\n«                └───┘                                                  »\n«c: 8/     ■════════════════════════════════════════════════════════════»\n«                                                                       »\n«           ┌───┐                                                       »\n«a[0]:     ■┤ X ├──■────────────────────────────────────────────────────»\n«           └─┬─┘  │       ┌───┐                                        »\n«a[1]:     ■──│────│───────┤ X ├──■─────────────────────────────────────»\n«             │    │       └─┬─┘  │       ┌───┐                         »\n«a[2]:     ■──│────│─────────│────│───────┤ X ├──■───────────────────■──»\n«             │    │         │    │       └─┬─┘  │       ┌───┐       │  »\n«a[3]:     ■──│────│─────────│────│─────────│────│───────┤ X ├──■────│──»\n«             │    │         │    │         │    │       └─┬─┘  │    │  »\n«b[0]:     ■──│────│─────────│────│─────────│────│─────────│────│────│──»\n«             │    │         │    │         │    │         │    │    │  »\n«b[1]:     ■──│────│─────────│────│─────────│────│─────────│────│────│──»\n«             │    │         │    │         │    │         │    │    │  »\n«b[2]:     ■──│────│─────────│────│─────────│────│─────────│────│────│──»\n«             │    │         │    │         │    │         │    │    │  »\n«b[3]:     ■──│────│─────────│────│─────────│────│─────────│────│────│──»\n«             │    │         │    │         │    │         │    │    │  »\n«a[0]:     ■──│────│─────────│────│─────────│────│─────────│────│────│──»\n«             │    │         │    │         │    │         │    │    │  »\n«a[1]:     ■──│────│─────────│────│─────────│────│─────────│────│────│──»\n«             │    │         │    │         │    │         │    │    │  »\n«a[2]:     ■──│────│─────────│────│─────────│────│─────────│────│────│──»\n«             │    │         │    │         │    │         │    │    │  »\n«a[3]:     ■──│────■─────────│────│─────────│────│─────────│────│────│──»\n«             │    │  ┌───┐  │    │         │    │         │    │    │  »\n«a[4]:     ■──│────│──┤ X ├──│────■─────────│────│─────────│────│────│──»\n«             │    │  └─┬─┘  │    │  ┌───┐  │    │         │    │    │  »\n«a[5]:     ■──│────│────│────│────│──┤ X ├──│────■─────────│────│────■──»\n«             │    │    │    │    │  └─┬─┘  │    │  ┌───┐  │    │    │  »\n«a[6]:     ■──│────│────│────│────│────│────│────│──┤ X ├──│────■────│──»\n«             │    │    │    │    │    │    │    │  └─┬─┘  │    │    │  »\n«a[7]:     ■──│────│────│────│────│────│────│────│────│────│────│────│──»\n«             │  ┌─┴─┐  │    │    │    │    │    │    │    │    │    │  »\n«c[0]:     ■──■──┤ X ├──│────│────│────│────│────│────│────│────│────│──»\n«                └───┘  │    │  ┌─┴─┐  │    │    │    │    │    │    │  »\n«c[1]:     ■────────────■────■──┤ X ├──│────│────│────│────│────│────│──»\n«                               └───┘  │    │  ┌─┴─┐  │    │    │  ┌─┴─┐»\n«c[2]:     ■───────────────────────────■────■──┤ X ├──│────│────│──┤ X ├»\n«                                              └───┘  │    │  ┌─┴─┐└───┘»\n«c[0]:     ■──────────────────────────────────────────■────■──┤ X ├─────»\n«                                                             └───┘     »\n«c: 8/     ■════════════════════════════════════════════════════════════»\n«                                                                       »\n«                                         ┌───┐                         »\n«a[0]:     ■───────────────────────────■──┤ X ├──■────■─────────────────»\n«                          ┌───┐       │  └─┬─┘  │    │                 »\n«a[1]:     ■────────────■──┤ X ├──■────│────│────│────│────■────────────»\n«           ┌───┐       │  └─┬─┘  │    │    │    │    │    │            »\n«a[2]:     ■┤ X ├──■────│────│────│────│────│────│────│────│────■───────»\n«           └─┬─┘  │    │    │    │    │    │    │    │    │    │       »\n«a[3]:     ■──│────│────│────│────│────│────│────│────│────│────│────■──»\n«             │    │    │    │    │    │    │    │    │    │    │    │  »\n«b[0]:     ■──│────│────│────│────│────│────│────│────│────│────│────│──»\n«             │    │    │    │    │    │    │    │    │    │    │    │  »\n«b[1]:     ■──│────│────│────│────│────│────│────│────│────│────│────│──»\n«             │    │    │    │    │    │    │    │    │    │    │    │  »\n«b[2]:     ■──│────│────│────│────│────│────│────│────│────│────│────│──»\n«             │    │    │    │    │    │    │    │    │    │    │    │  »\n«b[3]:     ■──│────│────│────│────│────│────│────│────│────│────│────│──»\n«             │    │    │    │    │    │    │    │    │    │    │    │  »\n«a[0]:     ■──│────│────│────│────│────│────│────│────│────│────│────│──»\n«             │    │    │    │    │    │    │    │    │    │    │    │  »\n«a[1]:     ■──│────│────│────│────│────│────│────│────│────│────│────│──»\n«             │    │    │    │    │    │    │    │    │    │    │    │  »\n«a[2]:     ■──│────│────│────│────│────│────│────│────│────│────│────│──»\n«             │    │    │    │    │    │    │  ┌─┴─┐┌─┴─┐  │    │    │  »\n«a[3]:     ■──│────│────│────│────│────■────│──┤ X ├┤ X ├──│────│────│──»\n«             │    │    │    │  ┌─┴─┐  │    │  └───┘└───┘┌─┴─┐  │    │  »\n«a[4]:     ■──│────│────■────│──┤ X ├──│────│────────────┤ X ├──│────│──»\n«             │  ┌─┴─┐  │    │  └───┘  │    │            └───┘┌─┴─┐  │  »\n«a[5]:     ■──│──┤ X ├──│────│─────────│────│─────────────────┤ X ├──│──»\n«             │  └───┘  │    │         │    │                 └───┘┌─┴─┐»\n«a[6]:     ■──│─────────│────│─────────│────│──────────────────────┤ X ├»\n«             │         │    │         │    │                      └───┘»\n«a[7]:     ■──│─────────│────│─────────│────│───────────────────────────»\n«             │         │    │       ┌─┴─┐  │                           »\n«c[0]:     ■──│─────────│────│───────┤ X ├──■───────────────────────────»\n«             │       ┌─┴─┐  │       └───┘                              »\n«c[1]:     ■──│───────┤ X ├──■──────────────────────────────────────────»\n«             │       └───┘                                             »\n«c[2]:     ■──■─────────────────────────────────────────────────────────»\n«                                                                       »\n«c[0]:     ■────────────────────────────────────────────────────────────»\n«                                                                       »\n«c: 8/     ■════════════════════════════════════════════════════════════»\n«                                                                       »\n«            ╎                                          \n«a[0]:     ■─╎───────────────────────────────────────── \n«            ╎                                          \n«a[1]:     ■─╎───────────────────────────────────────── \n«            ╎                                          \n«a[2]:     ■─╎───────────────────────────────────────── \n«            ╎                                          \n«a[3]:     ■─╎───────────────────────────────────────── \n«            ╎                                          \n«b[0]:     ■─╎───────────────────────────────────────── \n«            ╎                                          \n«b[1]:     ■─╎───────────────────────────────────────── \n«            ╎                                          \n«b[2]:     ■─╎───────────────────────────────────────── \n«            ╎                                          \n«b[3]:     ■─╎───────────────────────────────────────── \n«            ╎ ┌───┐                                    \n«a[0]:     ■─╎─┤ M ├─────────────────────────────────── \n«            ╎ └─╥─┘┌───┐                               \n«a[1]:     ■─╎───║──┤ M ├────────────────────────────── \n«            ╎   ║  └─╥─┘┌───┐                          \n«a[2]:     ■─╎───║────║──┤ M ├───────────────────────── \n«            ╎   ║    ║  └─╥─┘┌───┐                     \n«a[3]:     ■─╎───║────║────║──┤ M ├──────────────────── \n«            ╎   ║    ║    ║  └─╥─┘┌───┐                \n«a[4]:     ■─╎───║────║────║────║──┤ M ├─────────────── \n«            ╎   ║    ║    ║    ║  └─╥─┘┌───┐           \n«a[5]:     ■─╎───║────║────║────║────║──┤ M ├────────── \n«            ╎   ║    ║    ║    ║    ║  └─╥─┘┌───┐      \n«a[6]:     ■─╎───║────║────║────║────║────║──┤ M ├───── \n«            ╎   ║    ║    ║    ║    ║    ║  └─╥─┘┌───┐ \n«a[7]:     ■─╎───║────║────║────║────║────║────║──┤ M ├ \n«            ╎   ║    ║    ║    ║    ║    ║    ║  └─╥─┘ \n«c[0]:     ■─╎───║────║────║────║────║────║────║────║── \n«            ╎   ║    ║    ║    ║    ║    ║    ║    ║   \n«c[1]:     ■─╎───║────║────║────║────║────║────║────║── \n«            ╎   ║    ║    ║    ║    ║    ║    ║    ║   \n«c[2]:     ■─╎───║────║────║────║────║────║────║────║── \n«            ╎   ║    ║    ║    ║    ║    ║    ║    ║   \n«c[0]:     ■─╎───║────║────║────║────║────║────║────║── \n«            ╎   ║    ║    ║    ║    ║    ║    ║    ║   \n«c: 8/     ■═════╩════╩════╩════╩════╩════╩════╩════╩══ \n«                0    1    2    3    4    5    6    7   \n, 1024"
          ]
        }
      ]
    },
    {
      "cell_type": "markdown",
      "source": [
        "# Core Shor's Algorithm Components"
      ],
      "metadata": {
        "id": "4biyXJm_LJFr"
      }
    },
    {
      "cell_type": "code",
      "source": [
        "def controlled_modular_multiplier(qc, base, N, ctrl_qubit, target, ancilla, cin, cout, flag, temp, n):\n",
        "\n",
        "    \"\"\"\n",
        "    Applies a modular multiplication (base mod N) controlled by ctrl_qubit.\n",
        "    That is, performs: |x⟩|y⟩ → |x⟩|y * base^x mod N⟩\n",
        "    \"\"\"\n",
        "    # Multiply |target⟩ with base mod N, then reduce mod N\n",
        "    # All ops controlled by ctrl_qubit\n",
        "    temp = QuantumRegister(n, 'temp')\n",
        "\n",
        "    # Multiply by base\n",
        "    for i in range(n):\n",
        "        for j in range(n):\n",
        "            qc.ccx(ctrl_qubit, target[j], temp[(i+j)%n])  # simplistic multiply step\n",
        "\n",
        "    adder_cuccaro(qc, temp, target, cin, cout[0], n)\n",
        "    modular_reduction(qc, target, base, cin, cout, flag, n)\n",
        "\n",
        "    return\n",
        "\n",
        "\n",
        "def modular_exponentiation(qc, x_reg, y_reg, a, N, ancillae, cin, cout, flag, n):\n",
        "    \"\"\"\n",
        "    Computes a^x mod N into y_reg, using repeated controlled modular multipliers\n",
        "    \"\"\"\n",
        "    powers = [pow(a, 2**j, N) for j in range(n)]  # precompute a^(2^j) mod N\n",
        "\n",
        "    for j in range(n):\n",
        "        controlled_modular_multiplier(\n",
        "            qc=qc,\n",
        "            base=powers[j],\n",
        "            N=N,\n",
        "            ctrl_qubit=x_reg[j],\n",
        "            target=y_reg,\n",
        "            ancilla=ancillae,\n",
        "            cin=cin,\n",
        "            cout=cout,\n",
        "            flag=flag,\n",
        "            n=n\n",
        "        )\n",
        "        qc.barrier()\n",
        "\n",
        "    return\n"
      ],
      "metadata": {
        "id": "rjyoPSwNIn36"
      },
      "execution_count": 18,
      "outputs": []
    },
    {
      "cell_type": "code",
      "source": [
        "def test_modular_exponentiation():\n",
        "    n = 4\n",
        "    x_reg = QuantumRegister(n, 'x')         # exponent\n",
        "    y_reg = QuantumRegister(n, 'y')         # output = a^x mod N\n",
        "    ancillae = QuantumRegister(n, 'anc')    # ancillas\n",
        "    cin = QuantumRegister(n-1, 'cin')\n",
        "    cout = QuantumRegister(1, 'cout')\n",
        "    flag = QuantumRegister(1, 'flag')\n",
        "    c_out = ClassicalRegister(n, 'cy')\n",
        "\n",
        "    temp = QuantumRegister(n, 'temp')\n",
        "    qc = QuantumCircuit(x_reg, y_reg, ancillae, cin, cout, flag, temp, c_out)\n",
        "\n",
        "    # Initialize input x = 2\n",
        "    qc.x(x_reg[1])  # binary '0010' = 2\n",
        "\n",
        "    # Initialize y = 1\n",
        "    qc.x(y_reg[0])\n",
        "\n",
        "    # Perform modular exponentiation: 7^2 mod 15 = 4\n",
        "    modular_exponentiation(qc, x_reg, y_reg, a=7, N=15, ancillae=ancillae,\n",
        "                           cin=cin, cout=cout, flag=flag, n=n)\n",
        "\n",
        "    qc.measure(y_reg, c_out)\n",
        "    return qc\n",
        "    controlled_modular_multiplier(\n",
        "    qc=qc,\n",
        "    base=powers[j],\n",
        "    N=N,\n",
        "    ctrl_qubit=x_reg[j],\n",
        "    target=y_reg,\n",
        "    ancilla=ancillae,\n",
        "    cin=cin,\n",
        "    cout=cout,\n",
        "    flag=flag,\n",
        "    temp=temp,\n",
        "    n=n\n",
        ")\n"
      ],
      "metadata": {
        "id": "zddM3N-qLqNH"
      },
      "execution_count": 19,
      "outputs": []
    },
    {
      "cell_type": "markdown",
      "source": [
        "\n",
        "\n",
        "---\n",
        "\n",
        "\n",
        "\n",
        "---\n",
        "\n"
      ],
      "metadata": {
        "id": "Ty0UTr13MdEo"
      }
    },
    {
      "cell_type": "code",
      "source": [
        "import math\n",
        "from QuantumRingsLib import QuantumRegister, ClassicalRegister, QuantumCircuit\n",
        "\n",
        "def iqft(qc, qubits):\n",
        "    \"\"\"Applies the inverse QFT to the given qubits.\"\"\"\n",
        "    n = len(qubits)\n",
        "    for i in range(n // 2):\n",
        "        qc.swap(qubits[i], qubits[n - i - 1])\n",
        "    for j in range(n):\n",
        "        for m in range(j):\n",
        "            qc.cu1(-math.pi / float(2 ** (j - m)), qubits[m], qubits[j])\n",
        "        qc.h(qubits[j])\n",
        "    qc.barrier()\n",
        "\n",
        "def shors_algorithm(N, a, n_bits):\n",
        "    \"\"\"\n",
        "    Complete Shor's algorithm circuit for factoring integer N using base a.\n",
        "    Args:\n",
        "        N (int): The semiprime to factor.\n",
        "        a (int): The base used in modular exponentiation.\n",
        "        n_bits (int): Number of bits to represent N.\n",
        "    Returns:\n",
        "        QuantumCircuit\n",
        "    \"\"\"\n",
        "    # Quantum Registers\n",
        "    qx = QuantumRegister(2 * n_bits, \"x\")    # Counting register\n",
        "    qy = QuantumRegister(n_bits, \"y\")        # Target register\n",
        "    anc = QuantumRegister(n_bits * 4, \"anc\") # Ancillas\n",
        "    c = ClassicalRegister(2 * n_bits, \"c\")   # Classical for measuring x\n",
        "\n",
        "    qc = QuantumCircuit(qx, qy, anc, c)\n",
        "\n",
        "    # Step 1: Put x-register in superposition\n",
        "    qc.h(qx)\n",
        "    qc.barrier()\n",
        "\n",
        "    # Step 2: Initialize y-register to |1⟩\n",
        "    qc.x(qy[0])\n",
        "    qc.barrier()\n",
        "\n",
        "    # Step 3: Modular exponentiation\n",
        "    for j in range(2 * n_bits):\n",
        "        exp = pow(a, 2 ** j, N)\n",
        "        # Placeholder: replace with actual modular multiplication circuit\n",
        "        # controlled_modular_multiplier(qc, exp, N, qx[j], qy, anc[:n_bits], anc[n_bits:2*n_bits], anc[2*n_bits:3*n_bits], anc[3*n_bits:], n_bits)\n",
        "        qc.barrier()\n",
        "\n",
        "    # Step 4: Inverse QFT\n",
        "    iqft(qc, qx)\n",
        "    qc.barrier()\n",
        "\n",
        "    # Step 5: Measure\n",
        "    qc.measure(qx, c)\n",
        "\n",
        "    return qc\n"
      ],
      "metadata": {
        "id": "Os2clbVhMdq-"
      },
      "execution_count": 20,
      "outputs": []
    },
    {
      "cell_type": "markdown",
      "source": [
        "\n",
        "\n",
        "---\n",
        "\n",
        "\n",
        "\n",
        "---\n",
        "\n"
      ],
      "metadata": {
        "id": "3shdrKbbPcVo"
      }
    }
  ]
}